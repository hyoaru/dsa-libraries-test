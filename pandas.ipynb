{
 "cells": [
  {
   "cell_type": "markdown",
   "metadata": {},
   "source": [
    "# Pandas methods testing"
   ]
  },
  {
   "cell_type": "markdown",
   "metadata": {},
   "source": [
    "### Creating, loading, and saving of data"
   ]
  },
  {
   "cell_type": "code",
   "execution_count": 1,
   "metadata": {},
   "outputs": [],
   "source": [
    "# Creation\n",
    "people = {\n",
    "    'first' : ['ginger', 'baddie', 'mickey', 'meggy'],\n",
    "    'last' : ['bread', 'baldie', 'mann', 'muffin'],\n",
    "    'email' : ['gingerbread@email.com', 'baddiebaldie@email.com', 'mickeymann@email.com', 'meggymuffin@email.com'],\n",
    "    'sex' : ['male', 'female', 'male', 'female'],\n",
    "    'age' : [18, 27, 33, 15],\n",
    "}"
   ]
  },
  {
   "cell_type": "code",
   "execution_count": 2,
   "metadata": {},
   "outputs": [
    {
     "data": {
      "text/html": [
       "<div>\n",
       "<style scoped>\n",
       "    .dataframe tbody tr th:only-of-type {\n",
       "        vertical-align: middle;\n",
       "    }\n",
       "\n",
       "    .dataframe tbody tr th {\n",
       "        vertical-align: top;\n",
       "    }\n",
       "\n",
       "    .dataframe thead th {\n",
       "        text-align: right;\n",
       "    }\n",
       "</style>\n",
       "<table border=\"1\" class=\"dataframe\">\n",
       "  <thead>\n",
       "    <tr style=\"text-align: right;\">\n",
       "      <th></th>\n",
       "      <th>first</th>\n",
       "      <th>last</th>\n",
       "      <th>email</th>\n",
       "      <th>sex</th>\n",
       "      <th>age</th>\n",
       "    </tr>\n",
       "  </thead>\n",
       "  <tbody>\n",
       "    <tr>\n",
       "      <th>0</th>\n",
       "      <td>ginger</td>\n",
       "      <td>bread</td>\n",
       "      <td>gingerbread@email.com</td>\n",
       "      <td>male</td>\n",
       "      <td>18</td>\n",
       "    </tr>\n",
       "    <tr>\n",
       "      <th>1</th>\n",
       "      <td>baddie</td>\n",
       "      <td>baldie</td>\n",
       "      <td>baddiebaldie@email.com</td>\n",
       "      <td>female</td>\n",
       "      <td>27</td>\n",
       "    </tr>\n",
       "    <tr>\n",
       "      <th>2</th>\n",
       "      <td>mickey</td>\n",
       "      <td>mann</td>\n",
       "      <td>mickeymann@email.com</td>\n",
       "      <td>male</td>\n",
       "      <td>33</td>\n",
       "    </tr>\n",
       "    <tr>\n",
       "      <th>3</th>\n",
       "      <td>meggy</td>\n",
       "      <td>muffin</td>\n",
       "      <td>meggymuffin@email.com</td>\n",
       "      <td>female</td>\n",
       "      <td>15</td>\n",
       "    </tr>\n",
       "  </tbody>\n",
       "</table>\n",
       "</div>"
      ],
      "text/plain": [
       "    first    last                   email     sex  age\n",
       "0  ginger   bread   gingerbread@email.com    male   18\n",
       "1  baddie  baldie  baddiebaldie@email.com  female   27\n",
       "2  mickey    mann    mickeymann@email.com    male   33\n",
       "3   meggy  muffin   meggymuffin@email.com  female   15"
      ]
     },
     "execution_count": 2,
     "metadata": {},
     "output_type": "execute_result"
    }
   ],
   "source": [
    "# Loading\n",
    "import pandas as pd\n",
    "\n",
    "people_dataframe = pd.DataFrame(people)\n",
    "people_dataframe"
   ]
  },
  {
   "cell_type": "code",
   "execution_count": 3,
   "metadata": {},
   "outputs": [],
   "source": [
    "# Saving to csv\n",
    "people_dataframe.to_csv('data/people_dataframe.csv')"
   ]
  },
  {
   "cell_type": "code",
   "execution_count": 4,
   "metadata": {},
   "outputs": [
    {
     "data": {
      "text/html": [
       "<div>\n",
       "<style scoped>\n",
       "    .dataframe tbody tr th:only-of-type {\n",
       "        vertical-align: middle;\n",
       "    }\n",
       "\n",
       "    .dataframe tbody tr th {\n",
       "        vertical-align: top;\n",
       "    }\n",
       "\n",
       "    .dataframe thead th {\n",
       "        text-align: right;\n",
       "    }\n",
       "</style>\n",
       "<table border=\"1\" class=\"dataframe\">\n",
       "  <thead>\n",
       "    <tr style=\"text-align: right;\">\n",
       "      <th></th>\n",
       "      <th>first</th>\n",
       "      <th>last</th>\n",
       "      <th>email</th>\n",
       "      <th>sex</th>\n",
       "      <th>age</th>\n",
       "    </tr>\n",
       "  </thead>\n",
       "  <tbody>\n",
       "    <tr>\n",
       "      <th>0</th>\n",
       "      <td>ginger</td>\n",
       "      <td>bread</td>\n",
       "      <td>gingerbread@email.com</td>\n",
       "      <td>male</td>\n",
       "      <td>18</td>\n",
       "    </tr>\n",
       "    <tr>\n",
       "      <th>1</th>\n",
       "      <td>baddie</td>\n",
       "      <td>baldie</td>\n",
       "      <td>baddiebaldie@email.com</td>\n",
       "      <td>female</td>\n",
       "      <td>27</td>\n",
       "    </tr>\n",
       "    <tr>\n",
       "      <th>2</th>\n",
       "      <td>mickey</td>\n",
       "      <td>mann</td>\n",
       "      <td>mickeymann@email.com</td>\n",
       "      <td>male</td>\n",
       "      <td>33</td>\n",
       "    </tr>\n",
       "    <tr>\n",
       "      <th>3</th>\n",
       "      <td>meggy</td>\n",
       "      <td>muffin</td>\n",
       "      <td>meggymuffin@email.com</td>\n",
       "      <td>female</td>\n",
       "      <td>15</td>\n",
       "    </tr>\n",
       "  </tbody>\n",
       "</table>\n",
       "</div>"
      ],
      "text/plain": [
       "    first    last                   email     sex  age\n",
       "0  ginger   bread   gingerbread@email.com    male   18\n",
       "1  baddie  baldie  baddiebaldie@email.com  female   27\n",
       "2  mickey    mann    mickeymann@email.com    male   33\n",
       "3   meggy  muffin   meggymuffin@email.com  female   15"
      ]
     },
     "execution_count": 4,
     "metadata": {},
     "output_type": "execute_result"
    }
   ],
   "source": [
    "# Loading from csv file\n",
    "people_dataframe = pd.read_csv(r'data\\people_dataframe.csv', index_col=0)\n",
    "people_dataframe"
   ]
  },
  {
   "cell_type": "markdown",
   "metadata": {},
   "source": [
    "### Displaying of dataframe and information about it"
   ]
  },
  {
   "cell_type": "code",
   "execution_count": 5,
   "metadata": {},
   "outputs": [
    {
     "data": {
      "text/html": [
       "<div>\n",
       "<style scoped>\n",
       "    .dataframe tbody tr th:only-of-type {\n",
       "        vertical-align: middle;\n",
       "    }\n",
       "\n",
       "    .dataframe tbody tr th {\n",
       "        vertical-align: top;\n",
       "    }\n",
       "\n",
       "    .dataframe thead th {\n",
       "        text-align: right;\n",
       "    }\n",
       "</style>\n",
       "<table border=\"1\" class=\"dataframe\">\n",
       "  <thead>\n",
       "    <tr style=\"text-align: right;\">\n",
       "      <th></th>\n",
       "      <th>first</th>\n",
       "      <th>last</th>\n",
       "      <th>email</th>\n",
       "      <th>sex</th>\n",
       "      <th>age</th>\n",
       "    </tr>\n",
       "  </thead>\n",
       "  <tbody>\n",
       "    <tr>\n",
       "      <th>0</th>\n",
       "      <td>ginger</td>\n",
       "      <td>bread</td>\n",
       "      <td>gingerbread@email.com</td>\n",
       "      <td>male</td>\n",
       "      <td>18</td>\n",
       "    </tr>\n",
       "    <tr>\n",
       "      <th>1</th>\n",
       "      <td>baddie</td>\n",
       "      <td>baldie</td>\n",
       "      <td>baddiebaldie@email.com</td>\n",
       "      <td>female</td>\n",
       "      <td>27</td>\n",
       "    </tr>\n",
       "    <tr>\n",
       "      <th>2</th>\n",
       "      <td>mickey</td>\n",
       "      <td>mann</td>\n",
       "      <td>mickeymann@email.com</td>\n",
       "      <td>male</td>\n",
       "      <td>33</td>\n",
       "    </tr>\n",
       "    <tr>\n",
       "      <th>3</th>\n",
       "      <td>meggy</td>\n",
       "      <td>muffin</td>\n",
       "      <td>meggymuffin@email.com</td>\n",
       "      <td>female</td>\n",
       "      <td>15</td>\n",
       "    </tr>\n",
       "  </tbody>\n",
       "</table>\n",
       "</div>"
      ],
      "text/plain": [
       "    first    last                   email     sex  age\n",
       "0  ginger   bread   gingerbread@email.com    male   18\n",
       "1  baddie  baldie  baddiebaldie@email.com  female   27\n",
       "2  mickey    mann    mickeymann@email.com    male   33\n",
       "3   meggy  muffin   meggymuffin@email.com  female   15"
      ]
     },
     "execution_count": 5,
     "metadata": {},
     "output_type": "execute_result"
    }
   ],
   "source": [
    "# Displaying first 5 rows of dataframe\n",
    "people_dataframe.head(5)"
   ]
  },
  {
   "cell_type": "code",
   "execution_count": 6,
   "metadata": {},
   "outputs": [],
   "source": [
    "# Setting display option of dataframe\n",
    "pd.set_option('display.max_columns', 20)"
   ]
  },
  {
   "cell_type": "code",
   "execution_count": 7,
   "metadata": {},
   "outputs": [
    {
     "data": {
      "text/plain": [
       "(4, 5)"
      ]
     },
     "execution_count": 7,
     "metadata": {},
     "output_type": "execute_result"
    }
   ],
   "source": [
    "# Showing numbers of rows  and columns\n",
    "people_dataframe.shape"
   ]
  },
  {
   "cell_type": "code",
   "execution_count": 8,
   "metadata": {},
   "outputs": [
    {
     "name": "stdout",
     "output_type": "stream",
     "text": [
      "<class 'pandas.core.frame.DataFrame'>\n",
      "Int64Index: 4 entries, 0 to 3\n",
      "Data columns (total 5 columns):\n",
      " #   Column  Non-Null Count  Dtype \n",
      "---  ------  --------------  ----- \n",
      " 0   first   4 non-null      object\n",
      " 1   last    4 non-null      object\n",
      " 2   email   4 non-null      object\n",
      " 3   sex     4 non-null      object\n",
      " 4   age     4 non-null      int64 \n",
      "dtypes: int64(1), object(4)\n",
      "memory usage: 192.0+ bytes\n"
     ]
    }
   ],
   "source": [
    "# Showing the columns' information\n",
    "people_dataframe.info()"
   ]
  },
  {
   "cell_type": "code",
   "execution_count": 9,
   "metadata": {},
   "outputs": [
    {
     "data": {
      "text/html": [
       "<div>\n",
       "<style scoped>\n",
       "    .dataframe tbody tr th:only-of-type {\n",
       "        vertical-align: middle;\n",
       "    }\n",
       "\n",
       "    .dataframe tbody tr th {\n",
       "        vertical-align: top;\n",
       "    }\n",
       "\n",
       "    .dataframe thead th {\n",
       "        text-align: right;\n",
       "    }\n",
       "</style>\n",
       "<table border=\"1\" class=\"dataframe\">\n",
       "  <thead>\n",
       "    <tr style=\"text-align: right;\">\n",
       "      <th></th>\n",
       "      <th>age</th>\n",
       "    </tr>\n",
       "  </thead>\n",
       "  <tbody>\n",
       "    <tr>\n",
       "      <th>count</th>\n",
       "      <td>4.000000</td>\n",
       "    </tr>\n",
       "    <tr>\n",
       "      <th>mean</th>\n",
       "      <td>23.250000</td>\n",
       "    </tr>\n",
       "    <tr>\n",
       "      <th>std</th>\n",
       "      <td>8.261356</td>\n",
       "    </tr>\n",
       "    <tr>\n",
       "      <th>min</th>\n",
       "      <td>15.000000</td>\n",
       "    </tr>\n",
       "    <tr>\n",
       "      <th>25%</th>\n",
       "      <td>17.250000</td>\n",
       "    </tr>\n",
       "    <tr>\n",
       "      <th>50%</th>\n",
       "      <td>22.500000</td>\n",
       "    </tr>\n",
       "    <tr>\n",
       "      <th>75%</th>\n",
       "      <td>28.500000</td>\n",
       "    </tr>\n",
       "    <tr>\n",
       "      <th>max</th>\n",
       "      <td>33.000000</td>\n",
       "    </tr>\n",
       "  </tbody>\n",
       "</table>\n",
       "</div>"
      ],
      "text/plain": [
       "             age\n",
       "count   4.000000\n",
       "mean   23.250000\n",
       "std     8.261356\n",
       "min    15.000000\n",
       "25%    17.250000\n",
       "50%    22.500000\n",
       "75%    28.500000\n",
       "max    33.000000"
      ]
     },
     "execution_count": 9,
     "metadata": {},
     "output_type": "execute_result"
    }
   ],
   "source": [
    "# Statistics about the dataframe\n",
    "people_dataframe.describe()"
   ]
  },
  {
   "cell_type": "markdown",
   "metadata": {},
   "source": [
    "### Selecting rows and columns"
   ]
  },
  {
   "cell_type": "code",
   "execution_count": 10,
   "metadata": {},
   "outputs": [
    {
     "data": {
      "text/plain": [
       "0     gingerbread@email.com\n",
       "1    baddiebaldie@email.com\n",
       "2      mickeymann@email.com\n",
       "3     meggymuffin@email.com\n",
       "Name: email, dtype: object"
      ]
     },
     "execution_count": 10,
     "metadata": {},
     "output_type": "execute_result"
    }
   ],
   "source": [
    "# Selecting columns\n",
    "people_dataframe['email']"
   ]
  },
  {
   "cell_type": "code",
   "execution_count": 11,
   "metadata": {},
   "outputs": [
    {
     "data": {
      "text/html": [
       "<div>\n",
       "<style scoped>\n",
       "    .dataframe tbody tr th:only-of-type {\n",
       "        vertical-align: middle;\n",
       "    }\n",
       "\n",
       "    .dataframe tbody tr th {\n",
       "        vertical-align: top;\n",
       "    }\n",
       "\n",
       "    .dataframe thead th {\n",
       "        text-align: right;\n",
       "    }\n",
       "</style>\n",
       "<table border=\"1\" class=\"dataframe\">\n",
       "  <thead>\n",
       "    <tr style=\"text-align: right;\">\n",
       "      <th></th>\n",
       "      <th>first</th>\n",
       "      <th>last</th>\n",
       "      <th>email</th>\n",
       "    </tr>\n",
       "  </thead>\n",
       "  <tbody>\n",
       "    <tr>\n",
       "      <th>0</th>\n",
       "      <td>ginger</td>\n",
       "      <td>bread</td>\n",
       "      <td>gingerbread@email.com</td>\n",
       "    </tr>\n",
       "    <tr>\n",
       "      <th>1</th>\n",
       "      <td>baddie</td>\n",
       "      <td>baldie</td>\n",
       "      <td>baddiebaldie@email.com</td>\n",
       "    </tr>\n",
       "    <tr>\n",
       "      <th>2</th>\n",
       "      <td>mickey</td>\n",
       "      <td>mann</td>\n",
       "      <td>mickeymann@email.com</td>\n",
       "    </tr>\n",
       "    <tr>\n",
       "      <th>3</th>\n",
       "      <td>meggy</td>\n",
       "      <td>muffin</td>\n",
       "      <td>meggymuffin@email.com</td>\n",
       "    </tr>\n",
       "  </tbody>\n",
       "</table>\n",
       "</div>"
      ],
      "text/plain": [
       "    first    last                   email\n",
       "0  ginger   bread   gingerbread@email.com\n",
       "1  baddie  baldie  baddiebaldie@email.com\n",
       "2  mickey    mann    mickeymann@email.com\n",
       "3   meggy  muffin   meggymuffin@email.com"
      ]
     },
     "execution_count": 11,
     "metadata": {},
     "output_type": "execute_result"
    }
   ],
   "source": [
    "# Selecting multiple columns\n",
    "people_dataframe[['first', 'last', 'email']]"
   ]
  },
  {
   "cell_type": "code",
   "execution_count": 12,
   "metadata": {},
   "outputs": [
    {
     "data": {
      "text/plain": [
       "first                   ginger\n",
       "last                     bread\n",
       "email    gingerbread@email.com\n",
       "sex                       male\n",
       "age                         18\n",
       "Name: 0, dtype: object"
      ]
     },
     "execution_count": 12,
     "metadata": {},
     "output_type": "execute_result"
    }
   ],
   "source": [
    "# Selecting rows by index\n",
    "people_dataframe.iloc[0]"
   ]
  },
  {
   "cell_type": "code",
   "execution_count": 13,
   "metadata": {},
   "outputs": [
    {
     "data": {
      "text/plain": [
       "0     gingerbread@email.com\n",
       "1    baddiebaldie@email.com\n",
       "Name: email, dtype: object"
      ]
     },
     "execution_count": 13,
     "metadata": {},
     "output_type": "execute_result"
    }
   ],
   "source": [
    "# Selecting multiple rows by index\n",
    "people_dataframe.iloc[[0,1], 2]"
   ]
  },
  {
   "cell_type": "code",
   "execution_count": 14,
   "metadata": {},
   "outputs": [
    {
     "data": {
      "text/html": [
       "<div>\n",
       "<style scoped>\n",
       "    .dataframe tbody tr th:only-of-type {\n",
       "        vertical-align: middle;\n",
       "    }\n",
       "\n",
       "    .dataframe tbody tr th {\n",
       "        vertical-align: top;\n",
       "    }\n",
       "\n",
       "    .dataframe thead th {\n",
       "        text-align: right;\n",
       "    }\n",
       "</style>\n",
       "<table border=\"1\" class=\"dataframe\">\n",
       "  <thead>\n",
       "    <tr style=\"text-align: right;\">\n",
       "      <th></th>\n",
       "      <th>email</th>\n",
       "      <th>sex</th>\n",
       "    </tr>\n",
       "  </thead>\n",
       "  <tbody>\n",
       "    <tr>\n",
       "      <th>0</th>\n",
       "      <td>gingerbread@email.com</td>\n",
       "      <td>male</td>\n",
       "    </tr>\n",
       "    <tr>\n",
       "      <th>1</th>\n",
       "      <td>baddiebaldie@email.com</td>\n",
       "      <td>female</td>\n",
       "    </tr>\n",
       "  </tbody>\n",
       "</table>\n",
       "</div>"
      ],
      "text/plain": [
       "                    email     sex\n",
       "0   gingerbread@email.com    male\n",
       "1  baddiebaldie@email.com  female"
      ]
     },
     "execution_count": 14,
     "metadata": {},
     "output_type": "execute_result"
    }
   ],
   "source": [
    "# Selecting multiple rows with selected columns by index\n",
    "people_dataframe.iloc[[0,1], [2,3]]"
   ]
  },
  {
   "cell_type": "code",
   "execution_count": 15,
   "metadata": {},
   "outputs": [
    {
     "data": {
      "text/html": [
       "<div>\n",
       "<style scoped>\n",
       "    .dataframe tbody tr th:only-of-type {\n",
       "        vertical-align: middle;\n",
       "    }\n",
       "\n",
       "    .dataframe tbody tr th {\n",
       "        vertical-align: top;\n",
       "    }\n",
       "\n",
       "    .dataframe thead th {\n",
       "        text-align: right;\n",
       "    }\n",
       "</style>\n",
       "<table border=\"1\" class=\"dataframe\">\n",
       "  <thead>\n",
       "    <tr style=\"text-align: right;\">\n",
       "      <th></th>\n",
       "      <th>email</th>\n",
       "      <th>sex</th>\n",
       "    </tr>\n",
       "  </thead>\n",
       "  <tbody>\n",
       "    <tr>\n",
       "      <th>0</th>\n",
       "      <td>gingerbread@email.com</td>\n",
       "      <td>male</td>\n",
       "    </tr>\n",
       "    <tr>\n",
       "      <th>1</th>\n",
       "      <td>baddiebaldie@email.com</td>\n",
       "      <td>female</td>\n",
       "    </tr>\n",
       "  </tbody>\n",
       "</table>\n",
       "</div>"
      ],
      "text/plain": [
       "                    email     sex\n",
       "0   gingerbread@email.com    male\n",
       "1  baddiebaldie@email.com  female"
      ]
     },
     "execution_count": 15,
     "metadata": {},
     "output_type": "execute_result"
    }
   ],
   "source": [
    "# Selecting multiple rows with selected columns by label\n",
    "people_dataframe.loc[[0,1], ['email', 'sex']]"
   ]
  },
  {
   "cell_type": "code",
   "execution_count": 16,
   "metadata": {},
   "outputs": [
    {
     "data": {
      "text/plain": [
       "'ginger'"
      ]
     },
     "execution_count": 16,
     "metadata": {},
     "output_type": "execute_result"
    }
   ],
   "source": [
    "# Getting single value\n",
    "people_dataframe.at[0, 'first']"
   ]
  },
  {
   "cell_type": "markdown",
   "metadata": {},
   "source": [
    "### Filtering the data frame"
   ]
  },
  {
   "cell_type": "code",
   "execution_count": 17,
   "metadata": {},
   "outputs": [
    {
     "data": {
      "text/html": [
       "<div>\n",
       "<style scoped>\n",
       "    .dataframe tbody tr th:only-of-type {\n",
       "        vertical-align: middle;\n",
       "    }\n",
       "\n",
       "    .dataframe tbody tr th {\n",
       "        vertical-align: top;\n",
       "    }\n",
       "\n",
       "    .dataframe thead th {\n",
       "        text-align: right;\n",
       "    }\n",
       "</style>\n",
       "<table border=\"1\" class=\"dataframe\">\n",
       "  <thead>\n",
       "    <tr style=\"text-align: right;\">\n",
       "      <th></th>\n",
       "      <th>first</th>\n",
       "      <th>last</th>\n",
       "      <th>email</th>\n",
       "      <th>sex</th>\n",
       "      <th>age</th>\n",
       "    </tr>\n",
       "  </thead>\n",
       "  <tbody>\n",
       "    <tr>\n",
       "      <th>0</th>\n",
       "      <td>ginger</td>\n",
       "      <td>bread</td>\n",
       "      <td>gingerbread@email.com</td>\n",
       "      <td>male</td>\n",
       "      <td>18</td>\n",
       "    </tr>\n",
       "    <tr>\n",
       "      <th>3</th>\n",
       "      <td>meggy</td>\n",
       "      <td>muffin</td>\n",
       "      <td>meggymuffin@email.com</td>\n",
       "      <td>female</td>\n",
       "      <td>15</td>\n",
       "    </tr>\n",
       "  </tbody>\n",
       "</table>\n",
       "</div>"
      ],
      "text/plain": [
       "    first    last                  email     sex  age\n",
       "0  ginger   bread  gingerbread@email.com    male   18\n",
       "3   meggy  muffin  meggymuffin@email.com  female   15"
      ]
     },
     "execution_count": 17,
     "metadata": {},
     "output_type": "execute_result"
    }
   ],
   "source": [
    "# Searching through the data frame with given conditions\n",
    "filt = (people_dataframe['age'] <= 20)\n",
    "people_dataframe.loc[filt]"
   ]
  },
  {
   "cell_type": "code",
   "execution_count": 18,
   "metadata": {},
   "outputs": [
    {
     "data": {
      "text/html": [
       "<div>\n",
       "<style scoped>\n",
       "    .dataframe tbody tr th:only-of-type {\n",
       "        vertical-align: middle;\n",
       "    }\n",
       "\n",
       "    .dataframe tbody tr th {\n",
       "        vertical-align: top;\n",
       "    }\n",
       "\n",
       "    .dataframe thead th {\n",
       "        text-align: right;\n",
       "    }\n",
       "</style>\n",
       "<table border=\"1\" class=\"dataframe\">\n",
       "  <thead>\n",
       "    <tr style=\"text-align: right;\">\n",
       "      <th></th>\n",
       "      <th>first</th>\n",
       "      <th>last</th>\n",
       "      <th>age</th>\n",
       "    </tr>\n",
       "  </thead>\n",
       "  <tbody>\n",
       "    <tr>\n",
       "      <th>0</th>\n",
       "      <td>ginger</td>\n",
       "      <td>bread</td>\n",
       "      <td>18</td>\n",
       "    </tr>\n",
       "    <tr>\n",
       "      <th>3</th>\n",
       "      <td>meggy</td>\n",
       "      <td>muffin</td>\n",
       "      <td>15</td>\n",
       "    </tr>\n",
       "  </tbody>\n",
       "</table>\n",
       "</div>"
      ],
      "text/plain": [
       "    first    last  age\n",
       "0  ginger   bread   18\n",
       "3   meggy  muffin   15"
      ]
     },
     "execution_count": 18,
     "metadata": {},
     "output_type": "execute_result"
    }
   ],
   "source": [
    "# Searching through the data frame by given conditions with selected columns\n",
    "people_dataframe.loc[filt, ['first', 'last', 'age']]"
   ]
  },
  {
   "cell_type": "markdown",
   "metadata": {},
   "source": [
    "### Set, reset, sort, and use index"
   ]
  },
  {
   "cell_type": "code",
   "execution_count": 19,
   "metadata": {},
   "outputs": [
    {
     "data": {
      "text/plain": [
       "Int64Index([0, 1, 2, 3], dtype='int64')"
      ]
     },
     "execution_count": 19,
     "metadata": {},
     "output_type": "execute_result"
    }
   ],
   "source": [
    "# Showing index\n",
    "people_dataframe.index"
   ]
  },
  {
   "cell_type": "code",
   "execution_count": 20,
   "metadata": {},
   "outputs": [],
   "source": [
    "# Setting index\n",
    "people_dataframe.set_index('email', inplace=True)"
   ]
  },
  {
   "cell_type": "code",
   "execution_count": 21,
   "metadata": {},
   "outputs": [
    {
     "data": {
      "text/html": [
       "<div>\n",
       "<style scoped>\n",
       "    .dataframe tbody tr th:only-of-type {\n",
       "        vertical-align: middle;\n",
       "    }\n",
       "\n",
       "    .dataframe tbody tr th {\n",
       "        vertical-align: top;\n",
       "    }\n",
       "\n",
       "    .dataframe thead th {\n",
       "        text-align: right;\n",
       "    }\n",
       "</style>\n",
       "<table border=\"1\" class=\"dataframe\">\n",
       "  <thead>\n",
       "    <tr style=\"text-align: right;\">\n",
       "      <th></th>\n",
       "      <th>first</th>\n",
       "      <th>last</th>\n",
       "      <th>sex</th>\n",
       "      <th>age</th>\n",
       "    </tr>\n",
       "    <tr>\n",
       "      <th>email</th>\n",
       "      <th></th>\n",
       "      <th></th>\n",
       "      <th></th>\n",
       "      <th></th>\n",
       "    </tr>\n",
       "  </thead>\n",
       "  <tbody>\n",
       "    <tr>\n",
       "      <th>gingerbread@email.com</th>\n",
       "      <td>ginger</td>\n",
       "      <td>bread</td>\n",
       "      <td>male</td>\n",
       "      <td>18</td>\n",
       "    </tr>\n",
       "    <tr>\n",
       "      <th>baddiebaldie@email.com</th>\n",
       "      <td>baddie</td>\n",
       "      <td>baldie</td>\n",
       "      <td>female</td>\n",
       "      <td>27</td>\n",
       "    </tr>\n",
       "    <tr>\n",
       "      <th>mickeymann@email.com</th>\n",
       "      <td>mickey</td>\n",
       "      <td>mann</td>\n",
       "      <td>male</td>\n",
       "      <td>33</td>\n",
       "    </tr>\n",
       "    <tr>\n",
       "      <th>meggymuffin@email.com</th>\n",
       "      <td>meggy</td>\n",
       "      <td>muffin</td>\n",
       "      <td>female</td>\n",
       "      <td>15</td>\n",
       "    </tr>\n",
       "  </tbody>\n",
       "</table>\n",
       "</div>"
      ],
      "text/plain": [
       "                         first    last     sex  age\n",
       "email                                              \n",
       "gingerbread@email.com   ginger   bread    male   18\n",
       "baddiebaldie@email.com  baddie  baldie  female   27\n",
       "mickeymann@email.com    mickey    mann    male   33\n",
       "meggymuffin@email.com    meggy  muffin  female   15"
      ]
     },
     "execution_count": 21,
     "metadata": {},
     "output_type": "execute_result"
    }
   ],
   "source": [
    "# Dataframe after index set\n",
    "people_dataframe"
   ]
  },
  {
   "cell_type": "code",
   "execution_count": 22,
   "metadata": {},
   "outputs": [
    {
     "data": {
      "text/plain": [
       "first    mickey\n",
       "last       mann\n",
       "sex        male\n",
       "age          33\n",
       "Name: mickeymann@email.com, dtype: object"
      ]
     },
     "execution_count": 22,
     "metadata": {},
     "output_type": "execute_result"
    }
   ],
   "source": [
    "# Selecting row by idex\n",
    "people_dataframe.loc['mickeymann@email.com']"
   ]
  },
  {
   "cell_type": "code",
   "execution_count": 23,
   "metadata": {},
   "outputs": [],
   "source": [
    "# Resetting index\n",
    "people_dataframe.reset_index(inplace=True)"
   ]
  },
  {
   "cell_type": "code",
   "execution_count": 24,
   "metadata": {},
   "outputs": [
    {
     "data": {
      "text/html": [
       "<div>\n",
       "<style scoped>\n",
       "    .dataframe tbody tr th:only-of-type {\n",
       "        vertical-align: middle;\n",
       "    }\n",
       "\n",
       "    .dataframe tbody tr th {\n",
       "        vertical-align: top;\n",
       "    }\n",
       "\n",
       "    .dataframe thead th {\n",
       "        text-align: right;\n",
       "    }\n",
       "</style>\n",
       "<table border=\"1\" class=\"dataframe\">\n",
       "  <thead>\n",
       "    <tr style=\"text-align: right;\">\n",
       "      <th></th>\n",
       "      <th>email</th>\n",
       "      <th>first</th>\n",
       "      <th>last</th>\n",
       "      <th>sex</th>\n",
       "      <th>age</th>\n",
       "    </tr>\n",
       "  </thead>\n",
       "  <tbody>\n",
       "    <tr>\n",
       "      <th>0</th>\n",
       "      <td>gingerbread@email.com</td>\n",
       "      <td>ginger</td>\n",
       "      <td>bread</td>\n",
       "      <td>male</td>\n",
       "      <td>18</td>\n",
       "    </tr>\n",
       "    <tr>\n",
       "      <th>1</th>\n",
       "      <td>baddiebaldie@email.com</td>\n",
       "      <td>baddie</td>\n",
       "      <td>baldie</td>\n",
       "      <td>female</td>\n",
       "      <td>27</td>\n",
       "    </tr>\n",
       "    <tr>\n",
       "      <th>2</th>\n",
       "      <td>mickeymann@email.com</td>\n",
       "      <td>mickey</td>\n",
       "      <td>mann</td>\n",
       "      <td>male</td>\n",
       "      <td>33</td>\n",
       "    </tr>\n",
       "    <tr>\n",
       "      <th>3</th>\n",
       "      <td>meggymuffin@email.com</td>\n",
       "      <td>meggy</td>\n",
       "      <td>muffin</td>\n",
       "      <td>female</td>\n",
       "      <td>15</td>\n",
       "    </tr>\n",
       "  </tbody>\n",
       "</table>\n",
       "</div>"
      ],
      "text/plain": [
       "                    email   first    last     sex  age\n",
       "0   gingerbread@email.com  ginger   bread    male   18\n",
       "1  baddiebaldie@email.com  baddie  baldie  female   27\n",
       "2    mickeymann@email.com  mickey    mann    male   33\n",
       "3   meggymuffin@email.com   meggy  muffin  female   15"
      ]
     },
     "execution_count": 24,
     "metadata": {},
     "output_type": "execute_result"
    }
   ],
   "source": [
    "# Dataframe after index reset\n",
    "people_dataframe"
   ]
  },
  {
   "cell_type": "code",
   "execution_count": 25,
   "metadata": {},
   "outputs": [
    {
     "data": {
      "text/html": [
       "<div>\n",
       "<style scoped>\n",
       "    .dataframe tbody tr th:only-of-type {\n",
       "        vertical-align: middle;\n",
       "    }\n",
       "\n",
       "    .dataframe tbody tr th {\n",
       "        vertical-align: top;\n",
       "    }\n",
       "\n",
       "    .dataframe thead th {\n",
       "        text-align: right;\n",
       "    }\n",
       "</style>\n",
       "<table border=\"1\" class=\"dataframe\">\n",
       "  <thead>\n",
       "    <tr style=\"text-align: right;\">\n",
       "      <th></th>\n",
       "      <th>email</th>\n",
       "      <th>first</th>\n",
       "      <th>last</th>\n",
       "      <th>sex</th>\n",
       "      <th>age</th>\n",
       "    </tr>\n",
       "  </thead>\n",
       "  <tbody>\n",
       "    <tr>\n",
       "      <th>3</th>\n",
       "      <td>meggymuffin@email.com</td>\n",
       "      <td>meggy</td>\n",
       "      <td>muffin</td>\n",
       "      <td>female</td>\n",
       "      <td>15</td>\n",
       "    </tr>\n",
       "    <tr>\n",
       "      <th>2</th>\n",
       "      <td>mickeymann@email.com</td>\n",
       "      <td>mickey</td>\n",
       "      <td>mann</td>\n",
       "      <td>male</td>\n",
       "      <td>33</td>\n",
       "    </tr>\n",
       "    <tr>\n",
       "      <th>1</th>\n",
       "      <td>baddiebaldie@email.com</td>\n",
       "      <td>baddie</td>\n",
       "      <td>baldie</td>\n",
       "      <td>female</td>\n",
       "      <td>27</td>\n",
       "    </tr>\n",
       "    <tr>\n",
       "      <th>0</th>\n",
       "      <td>gingerbread@email.com</td>\n",
       "      <td>ginger</td>\n",
       "      <td>bread</td>\n",
       "      <td>male</td>\n",
       "      <td>18</td>\n",
       "    </tr>\n",
       "  </tbody>\n",
       "</table>\n",
       "</div>"
      ],
      "text/plain": [
       "                    email   first    last     sex  age\n",
       "3   meggymuffin@email.com   meggy  muffin  female   15\n",
       "2    mickeymann@email.com  mickey    mann    male   33\n",
       "1  baddiebaldie@email.com  baddie  baldie  female   27\n",
       "0   gingerbread@email.com  ginger   bread    male   18"
      ]
     },
     "execution_count": 25,
     "metadata": {},
     "output_type": "execute_result"
    }
   ],
   "source": [
    "# Sorting index\n",
    "people_dataframe.sort_index(ascending=False)"
   ]
  },
  {
   "cell_type": "markdown",
   "metadata": {},
   "source": [
    "### Modifying data within dataframe"
   ]
  },
  {
   "cell_type": "code",
   "execution_count": 26,
   "metadata": {},
   "outputs": [
    {
     "data": {
      "text/html": [
       "<div>\n",
       "<style scoped>\n",
       "    .dataframe tbody tr th:only-of-type {\n",
       "        vertical-align: middle;\n",
       "    }\n",
       "\n",
       "    .dataframe tbody tr th {\n",
       "        vertical-align: top;\n",
       "    }\n",
       "\n",
       "    .dataframe thead th {\n",
       "        text-align: right;\n",
       "    }\n",
       "</style>\n",
       "<table border=\"1\" class=\"dataframe\">\n",
       "  <thead>\n",
       "    <tr style=\"text-align: right;\">\n",
       "      <th></th>\n",
       "      <th>email</th>\n",
       "      <th>first</th>\n",
       "      <th>last</th>\n",
       "      <th>sex</th>\n",
       "      <th>age</th>\n",
       "    </tr>\n",
       "  </thead>\n",
       "  <tbody>\n",
       "    <tr>\n",
       "      <th>0</th>\n",
       "      <td>gingerbread@email.com</td>\n",
       "      <td>ginger</td>\n",
       "      <td>bread</td>\n",
       "      <td>male</td>\n",
       "      <td>18</td>\n",
       "    </tr>\n",
       "    <tr>\n",
       "      <th>1</th>\n",
       "      <td>baddiebaldie@email.com</td>\n",
       "      <td>baddie</td>\n",
       "      <td>baldie</td>\n",
       "      <td>female</td>\n",
       "      <td>27</td>\n",
       "    </tr>\n",
       "    <tr>\n",
       "      <th>2</th>\n",
       "      <td>mickeymann@email.com</td>\n",
       "      <td>mickey</td>\n",
       "      <td>mann</td>\n",
       "      <td>male</td>\n",
       "      <td>33</td>\n",
       "    </tr>\n",
       "    <tr>\n",
       "      <th>3</th>\n",
       "      <td>meggymuffin@email.com</td>\n",
       "      <td>meggy</td>\n",
       "      <td>muffin</td>\n",
       "      <td>female</td>\n",
       "      <td>15</td>\n",
       "    </tr>\n",
       "  </tbody>\n",
       "</table>\n",
       "</div>"
      ],
      "text/plain": [
       "                    email   first    last     sex  age\n",
       "0   gingerbread@email.com  ginger   bread    male   18\n",
       "1  baddiebaldie@email.com  baddie  baldie  female   27\n",
       "2    mickeymann@email.com  mickey    mann    male   33\n",
       "3   meggymuffin@email.com   meggy  muffin  female   15"
      ]
     },
     "execution_count": 26,
     "metadata": {},
     "output_type": "execute_result"
    }
   ],
   "source": [
    "# Renaming columns\n",
    "people_dataframe.columns = ['email', 'first', 'last', 'sex', 'age']\n",
    "people_dataframe"
   ]
  },
  {
   "cell_type": "code",
   "execution_count": 27,
   "metadata": {},
   "outputs": [
    {
     "data": {
      "text/html": [
       "<div>\n",
       "<style scoped>\n",
       "    .dataframe tbody tr th:only-of-type {\n",
       "        vertical-align: middle;\n",
       "    }\n",
       "\n",
       "    .dataframe tbody tr th {\n",
       "        vertical-align: top;\n",
       "    }\n",
       "\n",
       "    .dataframe thead th {\n",
       "        text-align: right;\n",
       "    }\n",
       "</style>\n",
       "<table border=\"1\" class=\"dataframe\">\n",
       "  <thead>\n",
       "    <tr style=\"text-align: right;\">\n",
       "      <th></th>\n",
       "      <th>email</th>\n",
       "      <th>first name</th>\n",
       "      <th>last name</th>\n",
       "      <th>sex</th>\n",
       "      <th>age</th>\n",
       "    </tr>\n",
       "  </thead>\n",
       "  <tbody>\n",
       "    <tr>\n",
       "      <th>0</th>\n",
       "      <td>gingerbread@email.com</td>\n",
       "      <td>ginger</td>\n",
       "      <td>bread</td>\n",
       "      <td>male</td>\n",
       "      <td>18</td>\n",
       "    </tr>\n",
       "    <tr>\n",
       "      <th>1</th>\n",
       "      <td>baddiebaldie@email.com</td>\n",
       "      <td>baddie</td>\n",
       "      <td>baldie</td>\n",
       "      <td>female</td>\n",
       "      <td>27</td>\n",
       "    </tr>\n",
       "    <tr>\n",
       "      <th>2</th>\n",
       "      <td>mickeymann@email.com</td>\n",
       "      <td>mickey</td>\n",
       "      <td>mann</td>\n",
       "      <td>male</td>\n",
       "      <td>33</td>\n",
       "    </tr>\n",
       "    <tr>\n",
       "      <th>3</th>\n",
       "      <td>meggymuffin@email.com</td>\n",
       "      <td>meggy</td>\n",
       "      <td>muffin</td>\n",
       "      <td>female</td>\n",
       "      <td>15</td>\n",
       "    </tr>\n",
       "  </tbody>\n",
       "</table>\n",
       "</div>"
      ],
      "text/plain": [
       "                    email first name last name     sex  age\n",
       "0   gingerbread@email.com     ginger     bread    male   18\n",
       "1  baddiebaldie@email.com     baddie    baldie  female   27\n",
       "2    mickeymann@email.com     mickey      mann    male   33\n",
       "3   meggymuffin@email.com      meggy    muffin  female   15"
      ]
     },
     "execution_count": 27,
     "metadata": {},
     "output_type": "execute_result"
    }
   ],
   "source": [
    "# Renaming columns using mapping\n",
    "people_dataframe.rename(columns={'first' : 'first name', 'last' : 'last name'}, inplace=True)\n",
    "people_dataframe"
   ]
  },
  {
   "cell_type": "code",
   "execution_count": 28,
   "metadata": {},
   "outputs": [
    {
     "data": {
      "text/html": [
       "<div>\n",
       "<style scoped>\n",
       "    .dataframe tbody tr th:only-of-type {\n",
       "        vertical-align: middle;\n",
       "    }\n",
       "\n",
       "    .dataframe tbody tr th {\n",
       "        vertical-align: top;\n",
       "    }\n",
       "\n",
       "    .dataframe thead th {\n",
       "        text-align: right;\n",
       "    }\n",
       "</style>\n",
       "<table border=\"1\" class=\"dataframe\">\n",
       "  <thead>\n",
       "    <tr style=\"text-align: right;\">\n",
       "      <th></th>\n",
       "      <th>email</th>\n",
       "      <th>first_name</th>\n",
       "      <th>last_name</th>\n",
       "      <th>sex</th>\n",
       "      <th>age</th>\n",
       "    </tr>\n",
       "  </thead>\n",
       "  <tbody>\n",
       "    <tr>\n",
       "      <th>0</th>\n",
       "      <td>gingerbread@email.com</td>\n",
       "      <td>ginger</td>\n",
       "      <td>bread</td>\n",
       "      <td>male</td>\n",
       "      <td>18</td>\n",
       "    </tr>\n",
       "    <tr>\n",
       "      <th>1</th>\n",
       "      <td>baddiebaldie@email.com</td>\n",
       "      <td>baddie</td>\n",
       "      <td>baldie</td>\n",
       "      <td>female</td>\n",
       "      <td>27</td>\n",
       "    </tr>\n",
       "    <tr>\n",
       "      <th>2</th>\n",
       "      <td>mickeymann@email.com</td>\n",
       "      <td>mickey</td>\n",
       "      <td>mann</td>\n",
       "      <td>male</td>\n",
       "      <td>33</td>\n",
       "    </tr>\n",
       "    <tr>\n",
       "      <th>3</th>\n",
       "      <td>meggymuffin@email.com</td>\n",
       "      <td>meggy</td>\n",
       "      <td>muffin</td>\n",
       "      <td>female</td>\n",
       "      <td>15</td>\n",
       "    </tr>\n",
       "  </tbody>\n",
       "</table>\n",
       "</div>"
      ],
      "text/plain": [
       "                    email first_name last_name     sex  age\n",
       "0   gingerbread@email.com     ginger     bread    male   18\n",
       "1  baddiebaldie@email.com     baddie    baldie  female   27\n",
       "2    mickeymann@email.com     mickey      mann    male   33\n",
       "3   meggymuffin@email.com      meggy    muffin  female   15"
      ]
     },
     "execution_count": 28,
     "metadata": {},
     "output_type": "execute_result"
    }
   ],
   "source": [
    "# Modifying columns with string manipulation\n",
    "people_dataframe.columns = people_dataframe.columns.str.replace(' ', '_')\n",
    "people_dataframe"
   ]
  },
  {
   "cell_type": "code",
   "execution_count": 29,
   "metadata": {},
   "outputs": [
    {
     "data": {
      "text/html": [
       "<div>\n",
       "<style scoped>\n",
       "    .dataframe tbody tr th:only-of-type {\n",
       "        vertical-align: middle;\n",
       "    }\n",
       "\n",
       "    .dataframe tbody tr th {\n",
       "        vertical-align: top;\n",
       "    }\n",
       "\n",
       "    .dataframe thead th {\n",
       "        text-align: right;\n",
       "    }\n",
       "</style>\n",
       "<table border=\"1\" class=\"dataframe\">\n",
       "  <thead>\n",
       "    <tr style=\"text-align: right;\">\n",
       "      <th></th>\n",
       "      <th>EMAIL</th>\n",
       "      <th>FIRST_NAME</th>\n",
       "      <th>LAST_NAME</th>\n",
       "      <th>SEX</th>\n",
       "      <th>AGE</th>\n",
       "    </tr>\n",
       "  </thead>\n",
       "  <tbody>\n",
       "    <tr>\n",
       "      <th>0</th>\n",
       "      <td>gingerbread@email.com</td>\n",
       "      <td>ginger</td>\n",
       "      <td>bread</td>\n",
       "      <td>male</td>\n",
       "      <td>18</td>\n",
       "    </tr>\n",
       "    <tr>\n",
       "      <th>1</th>\n",
       "      <td>baddiebaldie@email.com</td>\n",
       "      <td>baddie</td>\n",
       "      <td>baldie</td>\n",
       "      <td>female</td>\n",
       "      <td>27</td>\n",
       "    </tr>\n",
       "    <tr>\n",
       "      <th>2</th>\n",
       "      <td>mickeymann@email.com</td>\n",
       "      <td>mickey</td>\n",
       "      <td>mann</td>\n",
       "      <td>male</td>\n",
       "      <td>33</td>\n",
       "    </tr>\n",
       "    <tr>\n",
       "      <th>3</th>\n",
       "      <td>meggymuffin@email.com</td>\n",
       "      <td>meggy</td>\n",
       "      <td>muffin</td>\n",
       "      <td>female</td>\n",
       "      <td>15</td>\n",
       "    </tr>\n",
       "  </tbody>\n",
       "</table>\n",
       "</div>"
      ],
      "text/plain": [
       "                    EMAIL FIRST_NAME LAST_NAME     SEX  AGE\n",
       "0   gingerbread@email.com     ginger     bread    male   18\n",
       "1  baddiebaldie@email.com     baddie    baldie  female   27\n",
       "2    mickeymann@email.com     mickey      mann    male   33\n",
       "3   meggymuffin@email.com      meggy    muffin  female   15"
      ]
     },
     "execution_count": 29,
     "metadata": {},
     "output_type": "execute_result"
    }
   ],
   "source": [
    "# Modifying columns with list comprehension\n",
    "people_dataframe.columns = [x.upper() for x in people_dataframe.columns]\n",
    "people_dataframe"
   ]
  },
  {
   "cell_type": "code",
   "execution_count": 30,
   "metadata": {},
   "outputs": [
    {
     "data": {
      "text/html": [
       "<div>\n",
       "<style scoped>\n",
       "    .dataframe tbody tr th:only-of-type {\n",
       "        vertical-align: middle;\n",
       "    }\n",
       "\n",
       "    .dataframe tbody tr th {\n",
       "        vertical-align: top;\n",
       "    }\n",
       "\n",
       "    .dataframe thead th {\n",
       "        text-align: right;\n",
       "    }\n",
       "</style>\n",
       "<table border=\"1\" class=\"dataframe\">\n",
       "  <thead>\n",
       "    <tr style=\"text-align: right;\">\n",
       "      <th></th>\n",
       "      <th>email</th>\n",
       "      <th>first_name</th>\n",
       "      <th>last_name</th>\n",
       "      <th>sex</th>\n",
       "      <th>age</th>\n",
       "    </tr>\n",
       "  </thead>\n",
       "  <tbody>\n",
       "    <tr>\n",
       "      <th>0</th>\n",
       "      <td>gingerbread@email.com</td>\n",
       "      <td>ginger</td>\n",
       "      <td>bread</td>\n",
       "      <td>male</td>\n",
       "      <td>18</td>\n",
       "    </tr>\n",
       "    <tr>\n",
       "      <th>1</th>\n",
       "      <td>baddiebaldie@email.com</td>\n",
       "      <td>baddie</td>\n",
       "      <td>baldie</td>\n",
       "      <td>female</td>\n",
       "      <td>27</td>\n",
       "    </tr>\n",
       "    <tr>\n",
       "      <th>2</th>\n",
       "      <td>mickeymann@email.com</td>\n",
       "      <td>mickey</td>\n",
       "      <td>mann</td>\n",
       "      <td>male</td>\n",
       "      <td>33</td>\n",
       "    </tr>\n",
       "    <tr>\n",
       "      <th>3</th>\n",
       "      <td>meggymuffin@email.com</td>\n",
       "      <td>meggy</td>\n",
       "      <td>muffin</td>\n",
       "      <td>female</td>\n",
       "      <td>15</td>\n",
       "    </tr>\n",
       "  </tbody>\n",
       "</table>\n",
       "</div>"
      ],
      "text/plain": [
       "                    email first_name last_name     sex  age\n",
       "0   gingerbread@email.com     ginger     bread    male   18\n",
       "1  baddiebaldie@email.com     baddie    baldie  female   27\n",
       "2    mickeymann@email.com     mickey      mann    male   33\n",
       "3   meggymuffin@email.com      meggy    muffin  female   15"
      ]
     },
     "execution_count": 30,
     "metadata": {},
     "output_type": "execute_result"
    }
   ],
   "source": [
    "# Modifying columns with string manipulation\n",
    "people_dataframe.columns = people_dataframe.columns.str.lower()\n",
    "people_dataframe"
   ]
  },
  {
   "cell_type": "code",
   "execution_count": 31,
   "metadata": {},
   "outputs": [
    {
     "data": {
      "text/html": [
       "<div>\n",
       "<style scoped>\n",
       "    .dataframe tbody tr th:only-of-type {\n",
       "        vertical-align: middle;\n",
       "    }\n",
       "\n",
       "    .dataframe tbody tr th {\n",
       "        vertical-align: top;\n",
       "    }\n",
       "\n",
       "    .dataframe thead th {\n",
       "        text-align: right;\n",
       "    }\n",
       "</style>\n",
       "<table border=\"1\" class=\"dataframe\">\n",
       "  <thead>\n",
       "    <tr style=\"text-align: right;\">\n",
       "      <th></th>\n",
       "      <th>email</th>\n",
       "      <th>first_name</th>\n",
       "      <th>last_name</th>\n",
       "      <th>sex</th>\n",
       "      <th>age</th>\n",
       "    </tr>\n",
       "  </thead>\n",
       "  <tbody>\n",
       "    <tr>\n",
       "      <th>0</th>\n",
       "      <td>breadginger@email.com</td>\n",
       "      <td>bread</td>\n",
       "      <td>ginger</td>\n",
       "      <td>female</td>\n",
       "      <td>81</td>\n",
       "    </tr>\n",
       "    <tr>\n",
       "      <th>1</th>\n",
       "      <td>baddiebaldie@email.com</td>\n",
       "      <td>baddie</td>\n",
       "      <td>baldie</td>\n",
       "      <td>female</td>\n",
       "      <td>27</td>\n",
       "    </tr>\n",
       "    <tr>\n",
       "      <th>2</th>\n",
       "      <td>mickeymann@email.com</td>\n",
       "      <td>mickey</td>\n",
       "      <td>mann</td>\n",
       "      <td>male</td>\n",
       "      <td>33</td>\n",
       "    </tr>\n",
       "    <tr>\n",
       "      <th>3</th>\n",
       "      <td>meggymuffin@email.com</td>\n",
       "      <td>meggy</td>\n",
       "      <td>muffin</td>\n",
       "      <td>female</td>\n",
       "      <td>15</td>\n",
       "    </tr>\n",
       "  </tbody>\n",
       "</table>\n",
       "</div>"
      ],
      "text/plain": [
       "                    email first_name last_name     sex  age\n",
       "0   breadginger@email.com      bread    ginger  female   81\n",
       "1  baddiebaldie@email.com     baddie    baldie  female   27\n",
       "2    mickeymann@email.com     mickey      mann    male   33\n",
       "3   meggymuffin@email.com      meggy    muffin  female   15"
      ]
     },
     "execution_count": 31,
     "metadata": {},
     "output_type": "execute_result"
    }
   ],
   "source": [
    "# Modifying row values by index\n",
    "people_dataframe.loc[0] = ['breadginger@email.com', 'bread', 'ginger', 'female', 81]\n",
    "people_dataframe"
   ]
  },
  {
   "cell_type": "code",
   "execution_count": 32,
   "metadata": {},
   "outputs": [
    {
     "data": {
      "text/html": [
       "<div>\n",
       "<style scoped>\n",
       "    .dataframe tbody tr th:only-of-type {\n",
       "        vertical-align: middle;\n",
       "    }\n",
       "\n",
       "    .dataframe tbody tr th {\n",
       "        vertical-align: top;\n",
       "    }\n",
       "\n",
       "    .dataframe thead th {\n",
       "        text-align: right;\n",
       "    }\n",
       "</style>\n",
       "<table border=\"1\" class=\"dataframe\">\n",
       "  <thead>\n",
       "    <tr style=\"text-align: right;\">\n",
       "      <th></th>\n",
       "      <th>email</th>\n",
       "      <th>first_name</th>\n",
       "      <th>last_name</th>\n",
       "      <th>sex</th>\n",
       "      <th>age</th>\n",
       "    </tr>\n",
       "  </thead>\n",
       "  <tbody>\n",
       "    <tr>\n",
       "      <th>0</th>\n",
       "      <td>breadginger@email.com</td>\n",
       "      <td>ginger</td>\n",
       "      <td>bread</td>\n",
       "      <td>female</td>\n",
       "      <td>81</td>\n",
       "    </tr>\n",
       "    <tr>\n",
       "      <th>1</th>\n",
       "      <td>baddiebaldie@email.com</td>\n",
       "      <td>baddie</td>\n",
       "      <td>baldie</td>\n",
       "      <td>female</td>\n",
       "      <td>27</td>\n",
       "    </tr>\n",
       "    <tr>\n",
       "      <th>2</th>\n",
       "      <td>mickeymann@email.com</td>\n",
       "      <td>mickey</td>\n",
       "      <td>mann</td>\n",
       "      <td>male</td>\n",
       "      <td>33</td>\n",
       "    </tr>\n",
       "    <tr>\n",
       "      <th>3</th>\n",
       "      <td>meggymuffin@email.com</td>\n",
       "      <td>meggy</td>\n",
       "      <td>muffin</td>\n",
       "      <td>female</td>\n",
       "      <td>15</td>\n",
       "    </tr>\n",
       "  </tbody>\n",
       "</table>\n",
       "</div>"
      ],
      "text/plain": [
       "                    email first_name last_name     sex  age\n",
       "0   breadginger@email.com     ginger     bread  female   81\n",
       "1  baddiebaldie@email.com     baddie    baldie  female   27\n",
       "2    mickeymann@email.com     mickey      mann    male   33\n",
       "3   meggymuffin@email.com      meggy    muffin  female   15"
      ]
     },
     "execution_count": 32,
     "metadata": {},
     "output_type": "execute_result"
    }
   ],
   "source": [
    "# Modifying row values by index with selected columns\n",
    "people_dataframe.loc[0, ['first_name', 'last_name']] = ['ginger', 'bread']\n",
    "people_dataframe"
   ]
  },
  {
   "cell_type": "code",
   "execution_count": 33,
   "metadata": {},
   "outputs": [
    {
     "data": {
      "text/html": [
       "<div>\n",
       "<style scoped>\n",
       "    .dataframe tbody tr th:only-of-type {\n",
       "        vertical-align: middle;\n",
       "    }\n",
       "\n",
       "    .dataframe tbody tr th {\n",
       "        vertical-align: top;\n",
       "    }\n",
       "\n",
       "    .dataframe thead th {\n",
       "        text-align: right;\n",
       "    }\n",
       "</style>\n",
       "<table border=\"1\" class=\"dataframe\">\n",
       "  <thead>\n",
       "    <tr style=\"text-align: right;\">\n",
       "      <th></th>\n",
       "      <th>email</th>\n",
       "      <th>first_name</th>\n",
       "      <th>last_name</th>\n",
       "      <th>sex</th>\n",
       "      <th>age</th>\n",
       "    </tr>\n",
       "  </thead>\n",
       "  <tbody>\n",
       "    <tr>\n",
       "      <th>0</th>\n",
       "      <td>breadginger@email.com</td>\n",
       "      <td>ginger</td>\n",
       "      <td>bread</td>\n",
       "      <td>female</td>\n",
       "      <td>18</td>\n",
       "    </tr>\n",
       "    <tr>\n",
       "      <th>1</th>\n",
       "      <td>baddiebaldie@email.com</td>\n",
       "      <td>baddie</td>\n",
       "      <td>baldie</td>\n",
       "      <td>female</td>\n",
       "      <td>27</td>\n",
       "    </tr>\n",
       "    <tr>\n",
       "      <th>2</th>\n",
       "      <td>mickeymann@email.com</td>\n",
       "      <td>mickey</td>\n",
       "      <td>mann</td>\n",
       "      <td>male</td>\n",
       "      <td>33</td>\n",
       "    </tr>\n",
       "    <tr>\n",
       "      <th>3</th>\n",
       "      <td>meggymuffin@email.com</td>\n",
       "      <td>meggy</td>\n",
       "      <td>muffin</td>\n",
       "      <td>female</td>\n",
       "      <td>15</td>\n",
       "    </tr>\n",
       "  </tbody>\n",
       "</table>\n",
       "</div>"
      ],
      "text/plain": [
       "                    email first_name last_name     sex  age\n",
       "0   breadginger@email.com     ginger     bread  female   18\n",
       "1  baddiebaldie@email.com     baddie    baldie  female   27\n",
       "2    mickeymann@email.com     mickey      mann    male   33\n",
       "3   meggymuffin@email.com      meggy    muffin  female   15"
      ]
     },
     "execution_count": 33,
     "metadata": {},
     "output_type": "execute_result"
    }
   ],
   "source": [
    "# Modifying single row values by index and column\n",
    "people_dataframe.loc[0, 'age'] = 18\n",
    "people_dataframe"
   ]
  },
  {
   "cell_type": "code",
   "execution_count": 34,
   "metadata": {},
   "outputs": [
    {
     "data": {
      "text/html": [
       "<div>\n",
       "<style scoped>\n",
       "    .dataframe tbody tr th:only-of-type {\n",
       "        vertical-align: middle;\n",
       "    }\n",
       "\n",
       "    .dataframe tbody tr th {\n",
       "        vertical-align: top;\n",
       "    }\n",
       "\n",
       "    .dataframe thead th {\n",
       "        text-align: right;\n",
       "    }\n",
       "</style>\n",
       "<table border=\"1\" class=\"dataframe\">\n",
       "  <thead>\n",
       "    <tr style=\"text-align: right;\">\n",
       "      <th></th>\n",
       "      <th>email</th>\n",
       "      <th>first_name</th>\n",
       "      <th>last_name</th>\n",
       "      <th>sex</th>\n",
       "      <th>age</th>\n",
       "    </tr>\n",
       "  </thead>\n",
       "  <tbody>\n",
       "    <tr>\n",
       "      <th>0</th>\n",
       "      <td>breadginger@email.com</td>\n",
       "      <td>ginger</td>\n",
       "      <td>bread</td>\n",
       "      <td>female</td>\n",
       "      <td>18</td>\n",
       "    </tr>\n",
       "    <tr>\n",
       "      <th>1</th>\n",
       "      <td>baddiebaldie@email.com</td>\n",
       "      <td>baddie</td>\n",
       "      <td>baldie</td>\n",
       "      <td>female</td>\n",
       "      <td>27</td>\n",
       "    </tr>\n",
       "    <tr>\n",
       "      <th>2</th>\n",
       "      <td>mickeymann@email.com</td>\n",
       "      <td>mouse</td>\n",
       "      <td>mann</td>\n",
       "      <td>male</td>\n",
       "      <td>33</td>\n",
       "    </tr>\n",
       "    <tr>\n",
       "      <th>3</th>\n",
       "      <td>meggymuffin@email.com</td>\n",
       "      <td>meggy</td>\n",
       "      <td>muffin</td>\n",
       "      <td>female</td>\n",
       "      <td>15</td>\n",
       "    </tr>\n",
       "  </tbody>\n",
       "</table>\n",
       "</div>"
      ],
      "text/plain": [
       "                    email first_name last_name     sex  age\n",
       "0   breadginger@email.com     ginger     bread  female   18\n",
       "1  baddiebaldie@email.com     baddie    baldie  female   27\n",
       "2    mickeymann@email.com      mouse      mann    male   33\n",
       "3   meggymuffin@email.com      meggy    muffin  female   15"
      ]
     },
     "execution_count": 34,
     "metadata": {},
     "output_type": "execute_result"
    }
   ],
   "source": [
    "# Modifying row values with filter\n",
    "filt = people_dataframe['first_name'] == 'mickey'\n",
    "people_dataframe.loc[filt, 'first_name'] = 'mouse'\n",
    "people_dataframe"
   ]
  },
  {
   "cell_type": "code",
   "execution_count": 35,
   "metadata": {},
   "outputs": [
    {
     "data": {
      "text/plain": [
       "0    Ginger\n",
       "1    Baddie\n",
       "2     Mouse\n",
       "3     Meggy\n",
       "Name: first_name, dtype: object"
      ]
     },
     "execution_count": 35,
     "metadata": {},
     "output_type": "execute_result"
    }
   ],
   "source": [
    "# Modifying row values\n",
    "people_dataframe['first_name'].str.capitalize()"
   ]
  },
  {
   "cell_type": "code",
   "execution_count": 36,
   "metadata": {},
   "outputs": [
    {
     "data": {
      "text/plain": [
       "0     BREADGINGER@EMAIL.COM\n",
       "1    BADDIEBALDIE@EMAIL.COM\n",
       "2      MICKEYMANN@EMAIL.COM\n",
       "3     MEGGYMUFFIN@EMAIL.COM\n",
       "Name: email, dtype: object"
      ]
     },
     "execution_count": 36,
     "metadata": {},
     "output_type": "execute_result"
    }
   ],
   "source": [
    "# Modifying row values using apply method\n",
    "people_dataframe['email'].apply(lambda x: x.upper())"
   ]
  },
  {
   "cell_type": "code",
   "execution_count": 37,
   "metadata": {},
   "outputs": [
    {
     "data": {
      "text/html": [
       "<div>\n",
       "<style scoped>\n",
       "    .dataframe tbody tr th:only-of-type {\n",
       "        vertical-align: middle;\n",
       "    }\n",
       "\n",
       "    .dataframe tbody tr th {\n",
       "        vertical-align: top;\n",
       "    }\n",
       "\n",
       "    .dataframe thead th {\n",
       "        text-align: right;\n",
       "    }\n",
       "</style>\n",
       "<table border=\"1\" class=\"dataframe\">\n",
       "  <thead>\n",
       "    <tr style=\"text-align: right;\">\n",
       "      <th></th>\n",
       "      <th>email</th>\n",
       "      <th>first_name</th>\n",
       "      <th>last_name</th>\n",
       "      <th>sex</th>\n",
       "    </tr>\n",
       "  </thead>\n",
       "  <tbody>\n",
       "    <tr>\n",
       "      <th>0</th>\n",
       "      <td>Breadginger@email.com</td>\n",
       "      <td>Ginger</td>\n",
       "      <td>Bread</td>\n",
       "      <td>Female</td>\n",
       "    </tr>\n",
       "    <tr>\n",
       "      <th>1</th>\n",
       "      <td>Baddiebaldie@email.com</td>\n",
       "      <td>Baddie</td>\n",
       "      <td>Baldie</td>\n",
       "      <td>Female</td>\n",
       "    </tr>\n",
       "    <tr>\n",
       "      <th>2</th>\n",
       "      <td>Mickeymann@email.com</td>\n",
       "      <td>Mouse</td>\n",
       "      <td>Mann</td>\n",
       "      <td>Male</td>\n",
       "    </tr>\n",
       "    <tr>\n",
       "      <th>3</th>\n",
       "      <td>Meggymuffin@email.com</td>\n",
       "      <td>Meggy</td>\n",
       "      <td>Muffin</td>\n",
       "      <td>Female</td>\n",
       "    </tr>\n",
       "  </tbody>\n",
       "</table>\n",
       "</div>"
      ],
      "text/plain": [
       "                    email first_name last_name     sex\n",
       "0   Breadginger@email.com     Ginger     Bread  Female\n",
       "1  Baddiebaldie@email.com     Baddie    Baldie  Female\n",
       "2    Mickeymann@email.com      Mouse      Mann    Male\n",
       "3   Meggymuffin@email.com      Meggy    Muffin  Female"
      ]
     },
     "execution_count": 37,
     "metadata": {},
     "output_type": "execute_result"
    }
   ],
   "source": [
    "# Modifying all row values using applymap method\n",
    "people_dataframe.loc[:, people_dataframe.columns != 'age'].applymap(str.capitalize)"
   ]
  },
  {
   "cell_type": "code",
   "execution_count": 38,
   "metadata": {},
   "outputs": [
    {
     "data": {
      "text/html": [
       "<div>\n",
       "<style scoped>\n",
       "    .dataframe tbody tr th:only-of-type {\n",
       "        vertical-align: middle;\n",
       "    }\n",
       "\n",
       "    .dataframe tbody tr th {\n",
       "        vertical-align: top;\n",
       "    }\n",
       "\n",
       "    .dataframe thead th {\n",
       "        text-align: right;\n",
       "    }\n",
       "</style>\n",
       "<table border=\"1\" class=\"dataframe\">\n",
       "  <thead>\n",
       "    <tr style=\"text-align: right;\">\n",
       "      <th></th>\n",
       "      <th>email</th>\n",
       "      <th>first_name</th>\n",
       "      <th>last_name</th>\n",
       "      <th>sex</th>\n",
       "      <th>age</th>\n",
       "    </tr>\n",
       "  </thead>\n",
       "  <tbody>\n",
       "    <tr>\n",
       "      <th>0</th>\n",
       "      <td>breadginger@email.com</td>\n",
       "      <td>ginger</td>\n",
       "      <td>bread</td>\n",
       "      <td>female</td>\n",
       "      <td>18</td>\n",
       "    </tr>\n",
       "    <tr>\n",
       "      <th>1</th>\n",
       "      <td>baddiebaldie@email.com</td>\n",
       "      <td>baddie</td>\n",
       "      <td>baldie</td>\n",
       "      <td>female</td>\n",
       "      <td>27</td>\n",
       "    </tr>\n",
       "    <tr>\n",
       "      <th>2</th>\n",
       "      <td>mickeymann@email.com</td>\n",
       "      <td>mickey</td>\n",
       "      <td>mann</td>\n",
       "      <td>male</td>\n",
       "      <td>33</td>\n",
       "    </tr>\n",
       "    <tr>\n",
       "      <th>3</th>\n",
       "      <td>meggymuffin@email.com</td>\n",
       "      <td>chungus</td>\n",
       "      <td>muffin</td>\n",
       "      <td>female</td>\n",
       "      <td>15</td>\n",
       "    </tr>\n",
       "  </tbody>\n",
       "</table>\n",
       "</div>"
      ],
      "text/plain": [
       "                    email first_name last_name     sex  age\n",
       "0   breadginger@email.com     ginger     bread  female   18\n",
       "1  baddiebaldie@email.com     baddie    baldie  female   27\n",
       "2    mickeymann@email.com     mickey      mann    male   33\n",
       "3   meggymuffin@email.com    chungus    muffin  female   15"
      ]
     },
     "execution_count": 38,
     "metadata": {},
     "output_type": "execute_result"
    }
   ],
   "source": [
    "# Replacing multiple row values by column with map\n",
    "people_dataframe['first_name'] = people_dataframe['first_name'].replace({'mouse' : 'mickey', 'meggy' : 'chungus'})\n",
    "people_dataframe"
   ]
  },
  {
   "cell_type": "markdown",
   "metadata": {},
   "source": [
    "### Adding and removing rows and columns from the data frame"
   ]
  },
  {
   "cell_type": "code",
   "execution_count": 39,
   "metadata": {},
   "outputs": [
    {
     "data": {
      "text/html": [
       "<div>\n",
       "<style scoped>\n",
       "    .dataframe tbody tr th:only-of-type {\n",
       "        vertical-align: middle;\n",
       "    }\n",
       "\n",
       "    .dataframe tbody tr th {\n",
       "        vertical-align: top;\n",
       "    }\n",
       "\n",
       "    .dataframe thead th {\n",
       "        text-align: right;\n",
       "    }\n",
       "</style>\n",
       "<table border=\"1\" class=\"dataframe\">\n",
       "  <thead>\n",
       "    <tr style=\"text-align: right;\">\n",
       "      <th></th>\n",
       "      <th>email</th>\n",
       "      <th>first_name</th>\n",
       "      <th>last_name</th>\n",
       "      <th>sex</th>\n",
       "      <th>age</th>\n",
       "      <th>full_name</th>\n",
       "    </tr>\n",
       "  </thead>\n",
       "  <tbody>\n",
       "    <tr>\n",
       "      <th>0</th>\n",
       "      <td>breadginger@email.com</td>\n",
       "      <td>ginger</td>\n",
       "      <td>bread</td>\n",
       "      <td>female</td>\n",
       "      <td>18</td>\n",
       "      <td>ginger bread</td>\n",
       "    </tr>\n",
       "    <tr>\n",
       "      <th>1</th>\n",
       "      <td>baddiebaldie@email.com</td>\n",
       "      <td>baddie</td>\n",
       "      <td>baldie</td>\n",
       "      <td>female</td>\n",
       "      <td>27</td>\n",
       "      <td>baddie baldie</td>\n",
       "    </tr>\n",
       "    <tr>\n",
       "      <th>2</th>\n",
       "      <td>mickeymann@email.com</td>\n",
       "      <td>mickey</td>\n",
       "      <td>mann</td>\n",
       "      <td>male</td>\n",
       "      <td>33</td>\n",
       "      <td>mickey mann</td>\n",
       "    </tr>\n",
       "    <tr>\n",
       "      <th>3</th>\n",
       "      <td>meggymuffin@email.com</td>\n",
       "      <td>chungus</td>\n",
       "      <td>muffin</td>\n",
       "      <td>female</td>\n",
       "      <td>15</td>\n",
       "      <td>chungus muffin</td>\n",
       "    </tr>\n",
       "  </tbody>\n",
       "</table>\n",
       "</div>"
      ],
      "text/plain": [
       "                    email first_name last_name     sex  age       full_name\n",
       "0   breadginger@email.com     ginger     bread  female   18    ginger bread\n",
       "1  baddiebaldie@email.com     baddie    baldie  female   27   baddie baldie\n",
       "2    mickeymann@email.com     mickey      mann    male   33     mickey mann\n",
       "3   meggymuffin@email.com    chungus    muffin  female   15  chungus muffin"
      ]
     },
     "execution_count": 39,
     "metadata": {},
     "output_type": "execute_result"
    }
   ],
   "source": [
    "# Combining two columns and creating another column from it\n",
    "people_dataframe['full_name'] = people_dataframe['first_name'] + ' ' + people_dataframe['last_name']\n",
    "people_dataframe"
   ]
  },
  {
   "cell_type": "code",
   "execution_count": 40,
   "metadata": {},
   "outputs": [
    {
     "data": {
      "text/html": [
       "<div>\n",
       "<style scoped>\n",
       "    .dataframe tbody tr th:only-of-type {\n",
       "        vertical-align: middle;\n",
       "    }\n",
       "\n",
       "    .dataframe tbody tr th {\n",
       "        vertical-align: top;\n",
       "    }\n",
       "\n",
       "    .dataframe thead th {\n",
       "        text-align: right;\n",
       "    }\n",
       "</style>\n",
       "<table border=\"1\" class=\"dataframe\">\n",
       "  <thead>\n",
       "    <tr style=\"text-align: right;\">\n",
       "      <th></th>\n",
       "      <th>email</th>\n",
       "      <th>sex</th>\n",
       "      <th>age</th>\n",
       "      <th>full_name</th>\n",
       "    </tr>\n",
       "  </thead>\n",
       "  <tbody>\n",
       "    <tr>\n",
       "      <th>0</th>\n",
       "      <td>breadginger@email.com</td>\n",
       "      <td>female</td>\n",
       "      <td>18</td>\n",
       "      <td>ginger bread</td>\n",
       "    </tr>\n",
       "    <tr>\n",
       "      <th>1</th>\n",
       "      <td>baddiebaldie@email.com</td>\n",
       "      <td>female</td>\n",
       "      <td>27</td>\n",
       "      <td>baddie baldie</td>\n",
       "    </tr>\n",
       "    <tr>\n",
       "      <th>2</th>\n",
       "      <td>mickeymann@email.com</td>\n",
       "      <td>male</td>\n",
       "      <td>33</td>\n",
       "      <td>mickey mann</td>\n",
       "    </tr>\n",
       "    <tr>\n",
       "      <th>3</th>\n",
       "      <td>meggymuffin@email.com</td>\n",
       "      <td>female</td>\n",
       "      <td>15</td>\n",
       "      <td>chungus muffin</td>\n",
       "    </tr>\n",
       "  </tbody>\n",
       "</table>\n",
       "</div>"
      ],
      "text/plain": [
       "                    email     sex  age       full_name\n",
       "0   breadginger@email.com  female   18    ginger bread\n",
       "1  baddiebaldie@email.com  female   27   baddie baldie\n",
       "2    mickeymann@email.com    male   33     mickey mann\n",
       "3   meggymuffin@email.com  female   15  chungus muffin"
      ]
     },
     "execution_count": 40,
     "metadata": {},
     "output_type": "execute_result"
    }
   ],
   "source": [
    "# Removing columns\n",
    "people_dataframe.drop(columns=['first_name', 'last_name'], inplace=True)\n",
    "people_dataframe"
   ]
  },
  {
   "cell_type": "code",
   "execution_count": 41,
   "metadata": {},
   "outputs": [
    {
     "data": {
      "text/html": [
       "<div>\n",
       "<style scoped>\n",
       "    .dataframe tbody tr th:only-of-type {\n",
       "        vertical-align: middle;\n",
       "    }\n",
       "\n",
       "    .dataframe tbody tr th {\n",
       "        vertical-align: top;\n",
       "    }\n",
       "\n",
       "    .dataframe thead th {\n",
       "        text-align: right;\n",
       "    }\n",
       "</style>\n",
       "<table border=\"1\" class=\"dataframe\">\n",
       "  <thead>\n",
       "    <tr style=\"text-align: right;\">\n",
       "      <th></th>\n",
       "      <th>email</th>\n",
       "      <th>sex</th>\n",
       "      <th>age</th>\n",
       "      <th>full_name</th>\n",
       "      <th>first_name</th>\n",
       "      <th>last_name</th>\n",
       "    </tr>\n",
       "  </thead>\n",
       "  <tbody>\n",
       "    <tr>\n",
       "      <th>0</th>\n",
       "      <td>breadginger@email.com</td>\n",
       "      <td>female</td>\n",
       "      <td>18</td>\n",
       "      <td>ginger bread</td>\n",
       "      <td>ginger</td>\n",
       "      <td>bread</td>\n",
       "    </tr>\n",
       "    <tr>\n",
       "      <th>1</th>\n",
       "      <td>baddiebaldie@email.com</td>\n",
       "      <td>female</td>\n",
       "      <td>27</td>\n",
       "      <td>baddie baldie</td>\n",
       "      <td>baddie</td>\n",
       "      <td>baldie</td>\n",
       "    </tr>\n",
       "    <tr>\n",
       "      <th>2</th>\n",
       "      <td>mickeymann@email.com</td>\n",
       "      <td>male</td>\n",
       "      <td>33</td>\n",
       "      <td>mickey mann</td>\n",
       "      <td>mickey</td>\n",
       "      <td>mann</td>\n",
       "    </tr>\n",
       "    <tr>\n",
       "      <th>3</th>\n",
       "      <td>meggymuffin@email.com</td>\n",
       "      <td>female</td>\n",
       "      <td>15</td>\n",
       "      <td>chungus muffin</td>\n",
       "      <td>chungus</td>\n",
       "      <td>muffin</td>\n",
       "    </tr>\n",
       "  </tbody>\n",
       "</table>\n",
       "</div>"
      ],
      "text/plain": [
       "                    email     sex  age       full_name first_name last_name\n",
       "0   breadginger@email.com  female   18    ginger bread     ginger     bread\n",
       "1  baddiebaldie@email.com  female   27   baddie baldie     baddie    baldie\n",
       "2    mickeymann@email.com    male   33     mickey mann     mickey      mann\n",
       "3   meggymuffin@email.com  female   15  chungus muffin    chungus    muffin"
      ]
     },
     "execution_count": 41,
     "metadata": {},
     "output_type": "execute_result"
    }
   ],
   "source": [
    "# Creating new columns by splitting values from other columns\n",
    "people_dataframe[['first_name', 'last_name']] = people_dataframe['full_name'].str.split(expand=True)\n",
    "people_dataframe"
   ]
  },
  {
   "cell_type": "code",
   "execution_count": 42,
   "metadata": {},
   "outputs": [
    {
     "data": {
      "text/html": [
       "<div>\n",
       "<style scoped>\n",
       "    .dataframe tbody tr th:only-of-type {\n",
       "        vertical-align: middle;\n",
       "    }\n",
       "\n",
       "    .dataframe tbody tr th {\n",
       "        vertical-align: top;\n",
       "    }\n",
       "\n",
       "    .dataframe thead th {\n",
       "        text-align: right;\n",
       "    }\n",
       "</style>\n",
       "<table border=\"1\" class=\"dataframe\">\n",
       "  <thead>\n",
       "    <tr style=\"text-align: right;\">\n",
       "      <th></th>\n",
       "      <th>email</th>\n",
       "      <th>sex</th>\n",
       "      <th>age</th>\n",
       "      <th>full_name</th>\n",
       "      <th>first_name</th>\n",
       "      <th>last_name</th>\n",
       "      <th>has_hands</th>\n",
       "    </tr>\n",
       "  </thead>\n",
       "  <tbody>\n",
       "    <tr>\n",
       "      <th>0</th>\n",
       "      <td>breadginger@email.com</td>\n",
       "      <td>female</td>\n",
       "      <td>18</td>\n",
       "      <td>ginger bread</td>\n",
       "      <td>ginger</td>\n",
       "      <td>bread</td>\n",
       "      <td>False</td>\n",
       "    </tr>\n",
       "    <tr>\n",
       "      <th>1</th>\n",
       "      <td>baddiebaldie@email.com</td>\n",
       "      <td>female</td>\n",
       "      <td>27</td>\n",
       "      <td>baddie baldie</td>\n",
       "      <td>baddie</td>\n",
       "      <td>baldie</td>\n",
       "      <td>True</td>\n",
       "    </tr>\n",
       "    <tr>\n",
       "      <th>2</th>\n",
       "      <td>mickeymann@email.com</td>\n",
       "      <td>male</td>\n",
       "      <td>33</td>\n",
       "      <td>mickey mann</td>\n",
       "      <td>mickey</td>\n",
       "      <td>mann</td>\n",
       "      <td>True</td>\n",
       "    </tr>\n",
       "    <tr>\n",
       "      <th>3</th>\n",
       "      <td>meggymuffin@email.com</td>\n",
       "      <td>female</td>\n",
       "      <td>15</td>\n",
       "      <td>chungus muffin</td>\n",
       "      <td>chungus</td>\n",
       "      <td>muffin</td>\n",
       "      <td>False</td>\n",
       "    </tr>\n",
       "  </tbody>\n",
       "</table>\n",
       "</div>"
      ],
      "text/plain": [
       "                    email     sex  age       full_name first_name last_name  \\\n",
       "0   breadginger@email.com  female   18    ginger bread     ginger     bread   \n",
       "1  baddiebaldie@email.com  female   27   baddie baldie     baddie    baldie   \n",
       "2    mickeymann@email.com    male   33     mickey mann     mickey      mann   \n",
       "3   meggymuffin@email.com  female   15  chungus muffin    chungus    muffin   \n",
       "\n",
       "   has_hands  \n",
       "0      False  \n",
       "1       True  \n",
       "2       True  \n",
       "3      False  "
      ]
     },
     "execution_count": 42,
     "metadata": {},
     "output_type": "execute_result"
    }
   ],
   "source": [
    "# Adding new column and values\n",
    "people_dataframe = people_dataframe.assign(has_hands=[False, True, True, False])\n",
    "people_dataframe"
   ]
  },
  {
   "cell_type": "code",
   "execution_count": 43,
   "metadata": {},
   "outputs": [
    {
     "data": {
      "text/html": [
       "<div>\n",
       "<style scoped>\n",
       "    .dataframe tbody tr th:only-of-type {\n",
       "        vertical-align: middle;\n",
       "    }\n",
       "\n",
       "    .dataframe tbody tr th {\n",
       "        vertical-align: top;\n",
       "    }\n",
       "\n",
       "    .dataframe thead th {\n",
       "        text-align: right;\n",
       "    }\n",
       "</style>\n",
       "<table border=\"1\" class=\"dataframe\">\n",
       "  <thead>\n",
       "    <tr style=\"text-align: right;\">\n",
       "      <th></th>\n",
       "      <th>email</th>\n",
       "      <th>sex</th>\n",
       "      <th>age</th>\n",
       "      <th>full_name</th>\n",
       "      <th>first_name</th>\n",
       "      <th>last_name</th>\n",
       "      <th>has_hands</th>\n",
       "    </tr>\n",
       "  </thead>\n",
       "  <tbody>\n",
       "    <tr>\n",
       "      <th>0</th>\n",
       "      <td>breadginger@email.com</td>\n",
       "      <td>female</td>\n",
       "      <td>18</td>\n",
       "      <td>ginger bread</td>\n",
       "      <td>ginger</td>\n",
       "      <td>bread</td>\n",
       "      <td>False</td>\n",
       "    </tr>\n",
       "    <tr>\n",
       "      <th>1</th>\n",
       "      <td>baddiebaldie@email.com</td>\n",
       "      <td>female</td>\n",
       "      <td>27</td>\n",
       "      <td>baddie baldie</td>\n",
       "      <td>baddie</td>\n",
       "      <td>baldie</td>\n",
       "      <td>True</td>\n",
       "    </tr>\n",
       "    <tr>\n",
       "      <th>2</th>\n",
       "      <td>mickeymann@email.com</td>\n",
       "      <td>male</td>\n",
       "      <td>33</td>\n",
       "      <td>mickey mann</td>\n",
       "      <td>mickey</td>\n",
       "      <td>mann</td>\n",
       "      <td>True</td>\n",
       "    </tr>\n",
       "    <tr>\n",
       "      <th>3</th>\n",
       "      <td>meggymuffin@email.com</td>\n",
       "      <td>female</td>\n",
       "      <td>15</td>\n",
       "      <td>chungus muffin</td>\n",
       "      <td>chungus</td>\n",
       "      <td>muffin</td>\n",
       "      <td>False</td>\n",
       "    </tr>\n",
       "    <tr>\n",
       "      <th>4</th>\n",
       "      <td>bigpotato@email.com</td>\n",
       "      <td>male</td>\n",
       "      <td>25</td>\n",
       "      <td>big potato</td>\n",
       "      <td>big</td>\n",
       "      <td>potato</td>\n",
       "      <td>False</td>\n",
       "    </tr>\n",
       "  </tbody>\n",
       "</table>\n",
       "</div>"
      ],
      "text/plain": [
       "                    email     sex  age       full_name first_name last_name  \\\n",
       "0   breadginger@email.com  female   18    ginger bread     ginger     bread   \n",
       "1  baddiebaldie@email.com  female   27   baddie baldie     baddie    baldie   \n",
       "2    mickeymann@email.com    male   33     mickey mann     mickey      mann   \n",
       "3   meggymuffin@email.com  female   15  chungus muffin    chungus    muffin   \n",
       "4     bigpotato@email.com    male   25      big potato        big    potato   \n",
       "\n",
       "   has_hands  \n",
       "0      False  \n",
       "1       True  \n",
       "2       True  \n",
       "3      False  \n",
       "4      False  "
      ]
     },
     "execution_count": 43,
     "metadata": {},
     "output_type": "execute_result"
    }
   ],
   "source": [
    "# Adding dataframe to another dataframe\n",
    "people2 = {\n",
    "    'email' : ['bigpotato@email.com'],\n",
    "    'sex' : ['male'],\n",
    "    'age' : [25],\n",
    "    'full_name' : ['big potato'],\n",
    "    'first_name' : ['big'], \n",
    "    'last_name' : ['potato'],\n",
    "    'has_hands' : [False],\n",
    "}\n",
    "people_dataframe_2 = pd.DataFrame(people2)\n",
    "\n",
    "people_dataframe = people_dataframe.append(people_dataframe_2, ignore_index=True)\n",
    "people_dataframe"
   ]
  },
  {
   "cell_type": "code",
   "execution_count": 44,
   "metadata": {},
   "outputs": [
    {
     "data": {
      "text/html": [
       "<div>\n",
       "<style scoped>\n",
       "    .dataframe tbody tr th:only-of-type {\n",
       "        vertical-align: middle;\n",
       "    }\n",
       "\n",
       "    .dataframe tbody tr th {\n",
       "        vertical-align: top;\n",
       "    }\n",
       "\n",
       "    .dataframe thead th {\n",
       "        text-align: right;\n",
       "    }\n",
       "</style>\n",
       "<table border=\"1\" class=\"dataframe\">\n",
       "  <thead>\n",
       "    <tr style=\"text-align: right;\">\n",
       "      <th></th>\n",
       "      <th>email</th>\n",
       "      <th>sex</th>\n",
       "      <th>age</th>\n",
       "      <th>full_name</th>\n",
       "      <th>first_name</th>\n",
       "      <th>last_name</th>\n",
       "      <th>has_hands</th>\n",
       "    </tr>\n",
       "  </thead>\n",
       "  <tbody>\n",
       "    <tr>\n",
       "      <th>0</th>\n",
       "      <td>breadginger@email.com</td>\n",
       "      <td>female</td>\n",
       "      <td>18</td>\n",
       "      <td>ginger bread</td>\n",
       "      <td>ginger</td>\n",
       "      <td>bread</td>\n",
       "      <td>False</td>\n",
       "    </tr>\n",
       "    <tr>\n",
       "      <th>1</th>\n",
       "      <td>baddiebaldie@email.com</td>\n",
       "      <td>female</td>\n",
       "      <td>27</td>\n",
       "      <td>baddie baldie</td>\n",
       "      <td>baddie</td>\n",
       "      <td>baldie</td>\n",
       "      <td>True</td>\n",
       "    </tr>\n",
       "    <tr>\n",
       "      <th>2</th>\n",
       "      <td>mickeymann@email.com</td>\n",
       "      <td>male</td>\n",
       "      <td>33</td>\n",
       "      <td>mickey mann</td>\n",
       "      <td>mickey</td>\n",
       "      <td>mann</td>\n",
       "      <td>True</td>\n",
       "    </tr>\n",
       "    <tr>\n",
       "      <th>3</th>\n",
       "      <td>meggymuffin@email.com</td>\n",
       "      <td>female</td>\n",
       "      <td>15</td>\n",
       "      <td>chungus muffin</td>\n",
       "      <td>chungus</td>\n",
       "      <td>muffin</td>\n",
       "      <td>False</td>\n",
       "    </tr>\n",
       "    <tr>\n",
       "      <th>4</th>\n",
       "      <td>bigpotato@email.com</td>\n",
       "      <td>male</td>\n",
       "      <td>25</td>\n",
       "      <td>big potato</td>\n",
       "      <td>big</td>\n",
       "      <td>potato</td>\n",
       "      <td>False</td>\n",
       "    </tr>\n",
       "    <tr>\n",
       "      <th>5</th>\n",
       "      <td>sammiacm@email.com</td>\n",
       "      <td>female</td>\n",
       "      <td>45</td>\n",
       "      <td>sammi acm</td>\n",
       "      <td>sammi</td>\n",
       "      <td>acm</td>\n",
       "      <td>True</td>\n",
       "    </tr>\n",
       "  </tbody>\n",
       "</table>\n",
       "</div>"
      ],
      "text/plain": [
       "                    email     sex  age       full_name first_name last_name  \\\n",
       "0   breadginger@email.com  female   18    ginger bread     ginger     bread   \n",
       "1  baddiebaldie@email.com  female   27   baddie baldie     baddie    baldie   \n",
       "2    mickeymann@email.com    male   33     mickey mann     mickey      mann   \n",
       "3   meggymuffin@email.com  female   15  chungus muffin    chungus    muffin   \n",
       "4     bigpotato@email.com    male   25      big potato        big    potato   \n",
       "5      sammiacm@email.com  female   45       sammi acm      sammi       acm   \n",
       "\n",
       "   has_hands  \n",
       "0      False  \n",
       "1       True  \n",
       "2       True  \n",
       "3      False  \n",
       "4      False  \n",
       "5       True  "
      ]
     },
     "execution_count": 44,
     "metadata": {},
     "output_type": "execute_result"
    }
   ],
   "source": [
    "# Adding new rows\n",
    "people_dataframe.loc[len(people_dataframe.index)] = ['sammiacm@email.com', 'female', 45, 'sammi acm', 'sammi', 'acm', True]\n",
    "people_dataframe"
   ]
  },
  {
   "cell_type": "code",
   "execution_count": 45,
   "metadata": {},
   "outputs": [
    {
     "data": {
      "text/html": [
       "<div>\n",
       "<style scoped>\n",
       "    .dataframe tbody tr th:only-of-type {\n",
       "        vertical-align: middle;\n",
       "    }\n",
       "\n",
       "    .dataframe tbody tr th {\n",
       "        vertical-align: top;\n",
       "    }\n",
       "\n",
       "    .dataframe thead th {\n",
       "        text-align: right;\n",
       "    }\n",
       "</style>\n",
       "<table border=\"1\" class=\"dataframe\">\n",
       "  <thead>\n",
       "    <tr style=\"text-align: right;\">\n",
       "      <th></th>\n",
       "      <th>email</th>\n",
       "      <th>sex</th>\n",
       "      <th>age</th>\n",
       "      <th>full_name</th>\n",
       "      <th>first_name</th>\n",
       "      <th>last_name</th>\n",
       "      <th>has_hands</th>\n",
       "    </tr>\n",
       "  </thead>\n",
       "  <tbody>\n",
       "    <tr>\n",
       "      <th>0</th>\n",
       "      <td>breadginger@email.com</td>\n",
       "      <td>female</td>\n",
       "      <td>18</td>\n",
       "      <td>ginger bread</td>\n",
       "      <td>ginger</td>\n",
       "      <td>bread</td>\n",
       "      <td>False</td>\n",
       "    </tr>\n",
       "    <tr>\n",
       "      <th>1</th>\n",
       "      <td>baddiebaldie@email.com</td>\n",
       "      <td>female</td>\n",
       "      <td>27</td>\n",
       "      <td>baddie baldie</td>\n",
       "      <td>baddie</td>\n",
       "      <td>baldie</td>\n",
       "      <td>True</td>\n",
       "    </tr>\n",
       "    <tr>\n",
       "      <th>2</th>\n",
       "      <td>mickeymann@email.com</td>\n",
       "      <td>male</td>\n",
       "      <td>33</td>\n",
       "      <td>mickey mann</td>\n",
       "      <td>mickey</td>\n",
       "      <td>mann</td>\n",
       "      <td>True</td>\n",
       "    </tr>\n",
       "    <tr>\n",
       "      <th>3</th>\n",
       "      <td>meggymuffin@email.com</td>\n",
       "      <td>female</td>\n",
       "      <td>15</td>\n",
       "      <td>chungus muffin</td>\n",
       "      <td>chungus</td>\n",
       "      <td>muffin</td>\n",
       "      <td>False</td>\n",
       "    </tr>\n",
       "  </tbody>\n",
       "</table>\n",
       "</div>"
      ],
      "text/plain": [
       "                    email     sex  age       full_name first_name last_name  \\\n",
       "0   breadginger@email.com  female   18    ginger bread     ginger     bread   \n",
       "1  baddiebaldie@email.com  female   27   baddie baldie     baddie    baldie   \n",
       "2    mickeymann@email.com    male   33     mickey mann     mickey      mann   \n",
       "3   meggymuffin@email.com  female   15  chungus muffin    chungus    muffin   \n",
       "\n",
       "   has_hands  \n",
       "0      False  \n",
       "1       True  \n",
       "2       True  \n",
       "3      False  "
      ]
     },
     "execution_count": 45,
     "metadata": {},
     "output_type": "execute_result"
    }
   ],
   "source": [
    "# Removing rows by index with list comprehension\n",
    "people_dataframe.drop(index=[x for x in range(4,people_dataframe.index.__len__())])"
   ]
  },
  {
   "cell_type": "code",
   "execution_count": 46,
   "metadata": {},
   "outputs": [
    {
     "data": {
      "text/html": [
       "<div>\n",
       "<style scoped>\n",
       "    .dataframe tbody tr th:only-of-type {\n",
       "        vertical-align: middle;\n",
       "    }\n",
       "\n",
       "    .dataframe tbody tr th {\n",
       "        vertical-align: top;\n",
       "    }\n",
       "\n",
       "    .dataframe thead th {\n",
       "        text-align: right;\n",
       "    }\n",
       "</style>\n",
       "<table border=\"1\" class=\"dataframe\">\n",
       "  <thead>\n",
       "    <tr style=\"text-align: right;\">\n",
       "      <th></th>\n",
       "      <th>email</th>\n",
       "      <th>sex</th>\n",
       "      <th>age</th>\n",
       "      <th>full_name</th>\n",
       "      <th>first_name</th>\n",
       "      <th>last_name</th>\n",
       "      <th>has_hands</th>\n",
       "    </tr>\n",
       "  </thead>\n",
       "  <tbody>\n",
       "    <tr>\n",
       "      <th>0</th>\n",
       "      <td>breadginger@email.com</td>\n",
       "      <td>female</td>\n",
       "      <td>18</td>\n",
       "      <td>ginger bread</td>\n",
       "      <td>ginger</td>\n",
       "      <td>bread</td>\n",
       "      <td>False</td>\n",
       "    </tr>\n",
       "    <tr>\n",
       "      <th>1</th>\n",
       "      <td>baddiebaldie@email.com</td>\n",
       "      <td>female</td>\n",
       "      <td>27</td>\n",
       "      <td>baddie baldie</td>\n",
       "      <td>baddie</td>\n",
       "      <td>baldie</td>\n",
       "      <td>True</td>\n",
       "    </tr>\n",
       "    <tr>\n",
       "      <th>2</th>\n",
       "      <td>mickeymann@email.com</td>\n",
       "      <td>male</td>\n",
       "      <td>33</td>\n",
       "      <td>mickey mann</td>\n",
       "      <td>mickey</td>\n",
       "      <td>mann</td>\n",
       "      <td>True</td>\n",
       "    </tr>\n",
       "    <tr>\n",
       "      <th>3</th>\n",
       "      <td>meggymuffin@email.com</td>\n",
       "      <td>female</td>\n",
       "      <td>15</td>\n",
       "      <td>chungus muffin</td>\n",
       "      <td>chungus</td>\n",
       "      <td>muffin</td>\n",
       "      <td>False</td>\n",
       "    </tr>\n",
       "  </tbody>\n",
       "</table>\n",
       "</div>"
      ],
      "text/plain": [
       "                    email     sex  age       full_name first_name last_name  \\\n",
       "0   breadginger@email.com  female   18    ginger bread     ginger     bread   \n",
       "1  baddiebaldie@email.com  female   27   baddie baldie     baddie    baldie   \n",
       "2    mickeymann@email.com    male   33     mickey mann     mickey      mann   \n",
       "3   meggymuffin@email.com  female   15  chungus muffin    chungus    muffin   \n",
       "\n",
       "   has_hands  \n",
       "0      False  \n",
       "1       True  \n",
       "2       True  \n",
       "3      False  "
      ]
     },
     "execution_count": 46,
     "metadata": {},
     "output_type": "execute_result"
    }
   ],
   "source": [
    "# Removing rows by conditions\n",
    "filt = (people_dataframe['first_name'] == 'big') | (people_dataframe['last_name'] == 'acm')\n",
    "people_dataframe.drop(index=people_dataframe[filt].index)"
   ]
  },
  {
   "cell_type": "markdown",
   "metadata": {},
   "source": [
    "### Sorting data"
   ]
  },
  {
   "cell_type": "code",
   "execution_count": 47,
   "metadata": {},
   "outputs": [
    {
     "data": {
      "text/html": [
       "<div>\n",
       "<style scoped>\n",
       "    .dataframe tbody tr th:only-of-type {\n",
       "        vertical-align: middle;\n",
       "    }\n",
       "\n",
       "    .dataframe tbody tr th {\n",
       "        vertical-align: top;\n",
       "    }\n",
       "\n",
       "    .dataframe thead th {\n",
       "        text-align: right;\n",
       "    }\n",
       "</style>\n",
       "<table border=\"1\" class=\"dataframe\">\n",
       "  <thead>\n",
       "    <tr style=\"text-align: right;\">\n",
       "      <th></th>\n",
       "      <th>email</th>\n",
       "      <th>sex</th>\n",
       "      <th>age</th>\n",
       "      <th>full_name</th>\n",
       "      <th>first_name</th>\n",
       "      <th>last_name</th>\n",
       "      <th>has_hands</th>\n",
       "    </tr>\n",
       "  </thead>\n",
       "  <tbody>\n",
       "    <tr>\n",
       "      <th>1</th>\n",
       "      <td>baddiebaldie@email.com</td>\n",
       "      <td>female</td>\n",
       "      <td>27</td>\n",
       "      <td>baddie baldie</td>\n",
       "      <td>baddie</td>\n",
       "      <td>baldie</td>\n",
       "      <td>True</td>\n",
       "    </tr>\n",
       "    <tr>\n",
       "      <th>4</th>\n",
       "      <td>bigpotato@email.com</td>\n",
       "      <td>male</td>\n",
       "      <td>25</td>\n",
       "      <td>big potato</td>\n",
       "      <td>big</td>\n",
       "      <td>potato</td>\n",
       "      <td>False</td>\n",
       "    </tr>\n",
       "    <tr>\n",
       "      <th>3</th>\n",
       "      <td>meggymuffin@email.com</td>\n",
       "      <td>female</td>\n",
       "      <td>15</td>\n",
       "      <td>chungus muffin</td>\n",
       "      <td>chungus</td>\n",
       "      <td>muffin</td>\n",
       "      <td>False</td>\n",
       "    </tr>\n",
       "    <tr>\n",
       "      <th>0</th>\n",
       "      <td>breadginger@email.com</td>\n",
       "      <td>female</td>\n",
       "      <td>18</td>\n",
       "      <td>ginger bread</td>\n",
       "      <td>ginger</td>\n",
       "      <td>bread</td>\n",
       "      <td>False</td>\n",
       "    </tr>\n",
       "    <tr>\n",
       "      <th>2</th>\n",
       "      <td>mickeymann@email.com</td>\n",
       "      <td>male</td>\n",
       "      <td>33</td>\n",
       "      <td>mickey mann</td>\n",
       "      <td>mickey</td>\n",
       "      <td>mann</td>\n",
       "      <td>True</td>\n",
       "    </tr>\n",
       "    <tr>\n",
       "      <th>5</th>\n",
       "      <td>sammiacm@email.com</td>\n",
       "      <td>female</td>\n",
       "      <td>45</td>\n",
       "      <td>sammi acm</td>\n",
       "      <td>sammi</td>\n",
       "      <td>acm</td>\n",
       "      <td>True</td>\n",
       "    </tr>\n",
       "  </tbody>\n",
       "</table>\n",
       "</div>"
      ],
      "text/plain": [
       "                    email     sex  age       full_name first_name last_name  \\\n",
       "1  baddiebaldie@email.com  female   27   baddie baldie     baddie    baldie   \n",
       "4     bigpotato@email.com    male   25      big potato        big    potato   \n",
       "3   meggymuffin@email.com  female   15  chungus muffin    chungus    muffin   \n",
       "0   breadginger@email.com  female   18    ginger bread     ginger     bread   \n",
       "2    mickeymann@email.com    male   33     mickey mann     mickey      mann   \n",
       "5      sammiacm@email.com  female   45       sammi acm      sammi       acm   \n",
       "\n",
       "   has_hands  \n",
       "1       True  \n",
       "4      False  \n",
       "3      False  \n",
       "0      False  \n",
       "2       True  \n",
       "5       True  "
      ]
     },
     "execution_count": 47,
     "metadata": {},
     "output_type": "execute_result"
    }
   ],
   "source": [
    "# Sorting by single column\n",
    "people_dataframe.sort_values(by=['full_name'], ascending=True)"
   ]
  },
  {
   "cell_type": "code",
   "execution_count": 48,
   "metadata": {},
   "outputs": [
    {
     "data": {
      "text/html": [
       "<div>\n",
       "<style scoped>\n",
       "    .dataframe tbody tr th:only-of-type {\n",
       "        vertical-align: middle;\n",
       "    }\n",
       "\n",
       "    .dataframe tbody tr th {\n",
       "        vertical-align: top;\n",
       "    }\n",
       "\n",
       "    .dataframe thead th {\n",
       "        text-align: right;\n",
       "    }\n",
       "</style>\n",
       "<table border=\"1\" class=\"dataframe\">\n",
       "  <thead>\n",
       "    <tr style=\"text-align: right;\">\n",
       "      <th></th>\n",
       "      <th>email</th>\n",
       "      <th>sex</th>\n",
       "      <th>age</th>\n",
       "      <th>full_name</th>\n",
       "      <th>first_name</th>\n",
       "      <th>last_name</th>\n",
       "      <th>has_hands</th>\n",
       "    </tr>\n",
       "  </thead>\n",
       "  <tbody>\n",
       "    <tr>\n",
       "      <th>1</th>\n",
       "      <td>baddiebaldie@email.com</td>\n",
       "      <td>female</td>\n",
       "      <td>27</td>\n",
       "      <td>baddie baldie</td>\n",
       "      <td>baddie</td>\n",
       "      <td>baldie</td>\n",
       "      <td>True</td>\n",
       "    </tr>\n",
       "    <tr>\n",
       "      <th>4</th>\n",
       "      <td>bigpotato@email.com</td>\n",
       "      <td>male</td>\n",
       "      <td>25</td>\n",
       "      <td>big potato</td>\n",
       "      <td>big</td>\n",
       "      <td>potato</td>\n",
       "      <td>False</td>\n",
       "    </tr>\n",
       "    <tr>\n",
       "      <th>3</th>\n",
       "      <td>meggymuffin@email.com</td>\n",
       "      <td>female</td>\n",
       "      <td>15</td>\n",
       "      <td>chungus muffin</td>\n",
       "      <td>chungus</td>\n",
       "      <td>muffin</td>\n",
       "      <td>False</td>\n",
       "    </tr>\n",
       "    <tr>\n",
       "      <th>0</th>\n",
       "      <td>breadginger@email.com</td>\n",
       "      <td>female</td>\n",
       "      <td>18</td>\n",
       "      <td>ginger bread</td>\n",
       "      <td>ginger</td>\n",
       "      <td>bread</td>\n",
       "      <td>False</td>\n",
       "    </tr>\n",
       "    <tr>\n",
       "      <th>2</th>\n",
       "      <td>mickeymann@email.com</td>\n",
       "      <td>male</td>\n",
       "      <td>33</td>\n",
       "      <td>mickey mann</td>\n",
       "      <td>mickey</td>\n",
       "      <td>mann</td>\n",
       "      <td>True</td>\n",
       "    </tr>\n",
       "    <tr>\n",
       "      <th>5</th>\n",
       "      <td>sammiacm@email.com</td>\n",
       "      <td>female</td>\n",
       "      <td>45</td>\n",
       "      <td>sammi acm</td>\n",
       "      <td>sammi</td>\n",
       "      <td>acm</td>\n",
       "      <td>True</td>\n",
       "    </tr>\n",
       "  </tbody>\n",
       "</table>\n",
       "</div>"
      ],
      "text/plain": [
       "                    email     sex  age       full_name first_name last_name  \\\n",
       "1  baddiebaldie@email.com  female   27   baddie baldie     baddie    baldie   \n",
       "4     bigpotato@email.com    male   25      big potato        big    potato   \n",
       "3   meggymuffin@email.com  female   15  chungus muffin    chungus    muffin   \n",
       "0   breadginger@email.com  female   18    ginger bread     ginger     bread   \n",
       "2    mickeymann@email.com    male   33     mickey mann     mickey      mann   \n",
       "5      sammiacm@email.com  female   45       sammi acm      sammi       acm   \n",
       "\n",
       "   has_hands  \n",
       "1       True  \n",
       "4      False  \n",
       "3      False  \n",
       "0      False  \n",
       "2       True  \n",
       "5       True  "
      ]
     },
     "execution_count": 48,
     "metadata": {},
     "output_type": "execute_result"
    }
   ],
   "source": [
    "# Sorting by multiple columns\n",
    "people_dataframe.sort_values(by=['first_name', 'age'], ascending=[True, False])"
   ]
  },
  {
   "cell_type": "code",
   "execution_count": 49,
   "metadata": {},
   "outputs": [
    {
     "data": {
      "text/plain": [
       "1    baddiebaldie@email.com\n",
       "4       bigpotato@email.com\n",
       "0     breadginger@email.com\n",
       "3     meggymuffin@email.com\n",
       "2      mickeymann@email.com\n",
       "5        sammiacm@email.com\n",
       "Name: email, dtype: object"
      ]
     },
     "execution_count": 49,
     "metadata": {},
     "output_type": "execute_result"
    }
   ],
   "source": [
    "# Single column sorting\n",
    "people_dataframe['email'].sort_values(ascending=True)"
   ]
  },
  {
   "cell_type": "markdown",
   "metadata": {},
   "source": [
    "### Grouping and aggregating data"
   ]
  },
  {
   "cell_type": "code",
   "execution_count": 50,
   "metadata": {},
   "outputs": [
    {
     "data": {
      "text/html": [
       "<div>\n",
       "<style scoped>\n",
       "    .dataframe tbody tr th:only-of-type {\n",
       "        vertical-align: middle;\n",
       "    }\n",
       "\n",
       "    .dataframe tbody tr th {\n",
       "        vertical-align: top;\n",
       "    }\n",
       "\n",
       "    .dataframe thead th {\n",
       "        text-align: right;\n",
       "    }\n",
       "</style>\n",
       "<table border=\"1\" class=\"dataframe\">\n",
       "  <thead>\n",
       "    <tr style=\"text-align: right;\">\n",
       "      <th></th>\n",
       "      <th>email</th>\n",
       "      <th>sex</th>\n",
       "      <th>age</th>\n",
       "      <th>full_name</th>\n",
       "      <th>first_name</th>\n",
       "      <th>last_name</th>\n",
       "      <th>has_hands</th>\n",
       "    </tr>\n",
       "  </thead>\n",
       "  <tbody>\n",
       "    <tr>\n",
       "      <th>0</th>\n",
       "      <td>breadginger@email.com</td>\n",
       "      <td>female</td>\n",
       "      <td>18</td>\n",
       "      <td>ginger bread</td>\n",
       "      <td>ginger</td>\n",
       "      <td>bread</td>\n",
       "      <td>False</td>\n",
       "    </tr>\n",
       "    <tr>\n",
       "      <th>1</th>\n",
       "      <td>baddiebaldie@email.com</td>\n",
       "      <td>female</td>\n",
       "      <td>27</td>\n",
       "      <td>baddie baldie</td>\n",
       "      <td>baddie</td>\n",
       "      <td>baldie</td>\n",
       "      <td>True</td>\n",
       "    </tr>\n",
       "    <tr>\n",
       "      <th>3</th>\n",
       "      <td>meggymuffin@email.com</td>\n",
       "      <td>female</td>\n",
       "      <td>15</td>\n",
       "      <td>chungus muffin</td>\n",
       "      <td>chungus</td>\n",
       "      <td>muffin</td>\n",
       "      <td>False</td>\n",
       "    </tr>\n",
       "    <tr>\n",
       "      <th>5</th>\n",
       "      <td>sammiacm@email.com</td>\n",
       "      <td>female</td>\n",
       "      <td>45</td>\n",
       "      <td>sammi acm</td>\n",
       "      <td>sammi</td>\n",
       "      <td>acm</td>\n",
       "      <td>True</td>\n",
       "    </tr>\n",
       "  </tbody>\n",
       "</table>\n",
       "</div>"
      ],
      "text/plain": [
       "                    email     sex  age       full_name first_name last_name  \\\n",
       "0   breadginger@email.com  female   18    ginger bread     ginger     bread   \n",
       "1  baddiebaldie@email.com  female   27   baddie baldie     baddie    baldie   \n",
       "3   meggymuffin@email.com  female   15  chungus muffin    chungus    muffin   \n",
       "5      sammiacm@email.com  female   45       sammi acm      sammi       acm   \n",
       "\n",
       "   has_hands  \n",
       "0      False  \n",
       "1       True  \n",
       "3      False  \n",
       "5       True  "
      ]
     },
     "execution_count": 50,
     "metadata": {},
     "output_type": "execute_result"
    }
   ],
   "source": [
    "# Grouping data by a column and condition\n",
    "sexuality_group = people_dataframe.groupby(by='sex')\n",
    "sexuality_group.get_group(name='female')"
   ]
  },
  {
   "cell_type": "code",
   "execution_count": 51,
   "metadata": {},
   "outputs": [
    {
     "data": {
      "text/plain": [
       "sex     age\n",
       "female  15     1\n",
       "        18     1\n",
       "        27     1\n",
       "        45     1\n",
       "male    25     1\n",
       "        33     1\n",
       "Name: age, dtype: int64"
      ]
     },
     "execution_count": 51,
     "metadata": {},
     "output_type": "execute_result"
    }
   ],
   "source": [
    "# Aggregating data by sex and tallying the age by count\n",
    "sexuality_group['age'].value_counts()"
   ]
  },
  {
   "cell_type": "code",
   "execution_count": 52,
   "metadata": {},
   "outputs": [
    {
     "data": {
      "text/plain": [
       "age\n",
       "25    0.5\n",
       "33    0.5\n",
       "Name: age, dtype: float64"
      ]
     },
     "execution_count": 52,
     "metadata": {},
     "output_type": "execute_result"
    }
   ],
   "source": [
    "# Aggregating data and tallying the age by count with a given condition\n",
    "sexuality_group['age'].value_counts(normalize=True).loc['male']"
   ]
  },
  {
   "cell_type": "code",
   "execution_count": 53,
   "metadata": {},
   "outputs": [
    {
     "data": {
      "text/plain": [
       "sex\n",
       "female    22.5\n",
       "male      29.0\n",
       "Name: age, dtype: float64"
      ]
     },
     "execution_count": 53,
     "metadata": {},
     "output_type": "execute_result"
    }
   ],
   "source": [
    "# Applying a single aggregate function to a grouped data\n",
    "sexuality_group['age'].median()"
   ]
  },
  {
   "cell_type": "code",
   "execution_count": 54,
   "metadata": {},
   "outputs": [
    {
     "data": {
      "text/html": [
       "<div>\n",
       "<style scoped>\n",
       "    .dataframe tbody tr th:only-of-type {\n",
       "        vertical-align: middle;\n",
       "    }\n",
       "\n",
       "    .dataframe tbody tr th {\n",
       "        vertical-align: top;\n",
       "    }\n",
       "\n",
       "    .dataframe thead th {\n",
       "        text-align: right;\n",
       "    }\n",
       "</style>\n",
       "<table border=\"1\" class=\"dataframe\">\n",
       "  <thead>\n",
       "    <tr style=\"text-align: right;\">\n",
       "      <th></th>\n",
       "      <th>median</th>\n",
       "      <th>mean</th>\n",
       "    </tr>\n",
       "    <tr>\n",
       "      <th>sex</th>\n",
       "      <th></th>\n",
       "      <th></th>\n",
       "    </tr>\n",
       "  </thead>\n",
       "  <tbody>\n",
       "    <tr>\n",
       "      <th>female</th>\n",
       "      <td>22.5</td>\n",
       "      <td>26.25</td>\n",
       "    </tr>\n",
       "    <tr>\n",
       "      <th>male</th>\n",
       "      <td>29.0</td>\n",
       "      <td>29.00</td>\n",
       "    </tr>\n",
       "  </tbody>\n",
       "</table>\n",
       "</div>"
      ],
      "text/plain": [
       "        median   mean\n",
       "sex                  \n",
       "female    22.5  26.25\n",
       "male      29.0  29.00"
      ]
     },
     "execution_count": 54,
     "metadata": {},
     "output_type": "execute_result"
    }
   ],
   "source": [
    "# Applying multiple aggregate function to a grouped data\n",
    "sexuality_group['age'].agg(['median', 'mean'])"
   ]
  },
  {
   "cell_type": "code",
   "execution_count": 55,
   "metadata": {},
   "outputs": [
    {
     "data": {
      "text/plain": [
       "sex\n",
       "female    2\n",
       "male      1\n",
       "Name: sex, dtype: int64"
      ]
     },
     "execution_count": 55,
     "metadata": {},
     "output_type": "execute_result"
    }
   ],
   "source": [
    "# Grouping columns \n",
    "has_hands_group = people_dataframe.groupby(by='has_hands')\n",
    "respondents_sexuality = people_dataframe['sex'].value_counts()\n",
    "respondents_has_hands = has_hands_group['sex'].value_counts().get(True)\n",
    "respondents_has_hands"
   ]
  },
  {
   "cell_type": "code",
   "execution_count": 58,
   "metadata": {},
   "outputs": [
    {
     "data": {
      "text/html": [
       "<div>\n",
       "<style scoped>\n",
       "    .dataframe tbody tr th:only-of-type {\n",
       "        vertical-align: middle;\n",
       "    }\n",
       "\n",
       "    .dataframe tbody tr th {\n",
       "        vertical-align: top;\n",
       "    }\n",
       "\n",
       "    .dataframe thead th {\n",
       "        text-align: right;\n",
       "    }\n",
       "</style>\n",
       "<table border=\"1\" class=\"dataframe\">\n",
       "  <thead>\n",
       "    <tr style=\"text-align: right;\">\n",
       "      <th></th>\n",
       "      <th>sex</th>\n",
       "      <th>has_hands</th>\n",
       "    </tr>\n",
       "  </thead>\n",
       "  <tbody>\n",
       "    <tr>\n",
       "      <th>female</th>\n",
       "      <td>4</td>\n",
       "      <td>2</td>\n",
       "    </tr>\n",
       "    <tr>\n",
       "      <th>male</th>\n",
       "      <td>2</td>\n",
       "      <td>1</td>\n",
       "    </tr>\n",
       "  </tbody>\n",
       "</table>\n",
       "</div>"
      ],
      "text/plain": [
       "        sex  has_hands\n",
       "female    4          2\n",
       "male      2          1"
      ]
     },
     "execution_count": 58,
     "metadata": {},
     "output_type": "execute_result"
    }
   ],
   "source": [
    "# Concatenating grouped columns that has the same initial columns\n",
    "age_sex_dataframe = pd.concat([respondents_sexuality, respondents_has_hands], axis='columns', keys=['sex','has_hands'])\n",
    "age_sex_dataframe"
   ]
  },
  {
   "cell_type": "code",
   "execution_count": 62,
   "metadata": {},
   "outputs": [
    {
     "data": {
      "text/html": [
       "<div>\n",
       "<style scoped>\n",
       "    .dataframe tbody tr th:only-of-type {\n",
       "        vertical-align: middle;\n",
       "    }\n",
       "\n",
       "    .dataframe tbody tr th {\n",
       "        vertical-align: top;\n",
       "    }\n",
       "\n",
       "    .dataframe thead th {\n",
       "        text-align: right;\n",
       "    }\n",
       "</style>\n",
       "<table border=\"1\" class=\"dataframe\">\n",
       "  <thead>\n",
       "    <tr style=\"text-align: right;\">\n",
       "      <th></th>\n",
       "      <th>sex</th>\n",
       "      <th>has_hands</th>\n",
       "      <th>has_hands_percentage</th>\n",
       "    </tr>\n",
       "  </thead>\n",
       "  <tbody>\n",
       "    <tr>\n",
       "      <th>female</th>\n",
       "      <td>4</td>\n",
       "      <td>2</td>\n",
       "      <td>50.0</td>\n",
       "    </tr>\n",
       "    <tr>\n",
       "      <th>male</th>\n",
       "      <td>2</td>\n",
       "      <td>1</td>\n",
       "      <td>50.0</td>\n",
       "    </tr>\n",
       "  </tbody>\n",
       "</table>\n",
       "</div>"
      ],
      "text/plain": [
       "        sex  has_hands  has_hands_percentage\n",
       "female    4          2                  50.0\n",
       "male      2          1                  50.0"
      ]
     },
     "execution_count": 62,
     "metadata": {},
     "output_type": "execute_result"
    }
   ],
   "source": [
    "# Making a new column from the grouped data\n",
    "age_sex_dataframe.assign(has_hands_percentage = (respondents_has_hands / respondents_sexuality) * 100)"
   ]
  }
 ],
 "metadata": {
  "interpreter": {
   "hash": "f896834caa999e24943a931076cd9ec238c575e36399794c38302c4affb933ed"
  },
  "kernelspec": {
   "display_name": "Python 3.9.7 64-bit ('base': conda)",
   "language": "python",
   "name": "python3"
  },
  "language_info": {
   "codemirror_mode": {
    "name": "ipython",
    "version": 3
   },
   "file_extension": ".py",
   "mimetype": "text/x-python",
   "name": "python",
   "nbconvert_exporter": "python",
   "pygments_lexer": "ipython3",
   "version": "3.9.7"
  },
  "orig_nbformat": 4
 },
 "nbformat": 4,
 "nbformat_minor": 2
}
