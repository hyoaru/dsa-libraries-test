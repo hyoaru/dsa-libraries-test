{
 "cells": [
  {
   "cell_type": "markdown",
   "metadata": {},
   "source": [
    "# Descriptive statistics in python"
   ]
  },
  {
   "cell_type": "markdown",
   "metadata": {},
   "source": [
    "---\n",
    "### Initialization"
   ]
  },
  {
   "cell_type": "code",
   "execution_count": null,
   "metadata": {},
   "outputs": [],
   "source": [
    "import pandas as pd\n",
    "import numpy as np\n",
    "import statistics as st\n",
    "from scipy.stats import iqr"
   ]
  }
 ],
 "metadata": {
  "interpreter": {
   "hash": "6b8a6e58ac7c32b1c8ab246be7c43cc3ee599025da1f8fa5c32148455ad35f52"
  },
  "kernelspec": {
   "display_name": "Python 3.9.7 ('custev')",
   "language": "python",
   "name": "python3"
  },
  "language_info": {
   "name": "python",
   "version": "3.9.7"
  },
  "orig_nbformat": 4
 },
 "nbformat": 4,
 "nbformat_minor": 2
}
