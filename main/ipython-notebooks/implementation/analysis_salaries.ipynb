{
 "cells": [
  {
   "cell_type": "markdown",
   "metadata": {},
   "source": [
    "# SP802 Analysis on Salaries Data Set\n",
    "---"
   ]
  },
  {
   "cell_type": "code",
   "execution_count": 243,
   "metadata": {},
   "outputs": [],
   "source": [
    "import pandas as pd\n",
    "import numpy as np"
   ]
  },
  {
   "cell_type": "markdown",
   "metadata": {},
   "source": [
    "---\n",
    "### Initialization"
   ]
  },
  {
   "cell_type": "code",
   "execution_count": 244,
   "metadata": {},
   "outputs": [
    {
     "data": {
      "text/html": [
       "<div>\n",
       "<style scoped>\n",
       "    .dataframe tbody tr th:only-of-type {\n",
       "        vertical-align: middle;\n",
       "    }\n",
       "\n",
       "    .dataframe tbody tr th {\n",
       "        vertical-align: top;\n",
       "    }\n",
       "\n",
       "    .dataframe thead th {\n",
       "        text-align: right;\n",
       "    }\n",
       "</style>\n",
       "<table border=\"1\" class=\"dataframe\">\n",
       "  <thead>\n",
       "    <tr style=\"text-align: right;\">\n",
       "      <th></th>\n",
       "      <th>EmployeeName</th>\n",
       "      <th>JobTitle</th>\n",
       "      <th>BasePay</th>\n",
       "      <th>OvertimePay</th>\n",
       "      <th>OtherPay</th>\n",
       "      <th>Benefits</th>\n",
       "      <th>TotalPay</th>\n",
       "      <th>TotalPayBenefits</th>\n",
       "      <th>Year</th>\n",
       "      <th>Notes</th>\n",
       "      <th>Agency</th>\n",
       "      <th>Status</th>\n",
       "    </tr>\n",
       "    <tr>\n",
       "      <th>Id</th>\n",
       "      <th></th>\n",
       "      <th></th>\n",
       "      <th></th>\n",
       "      <th></th>\n",
       "      <th></th>\n",
       "      <th></th>\n",
       "      <th></th>\n",
       "      <th></th>\n",
       "      <th></th>\n",
       "      <th></th>\n",
       "      <th></th>\n",
       "      <th></th>\n",
       "    </tr>\n",
       "  </thead>\n",
       "  <tbody>\n",
       "    <tr>\n",
       "      <th>1</th>\n",
       "      <td>NATHANIEL FORD</td>\n",
       "      <td>GENERAL MANAGER-METROPOLITAN TRANSIT AUTHORITY</td>\n",
       "      <td>167411.18</td>\n",
       "      <td>0.0</td>\n",
       "      <td>400184.25</td>\n",
       "      <td>NaN</td>\n",
       "      <td>567595.43</td>\n",
       "      <td>567595.43</td>\n",
       "      <td>2011</td>\n",
       "      <td>NaN</td>\n",
       "      <td>San Francisco</td>\n",
       "      <td>NaN</td>\n",
       "    </tr>\n",
       "    <tr>\n",
       "      <th>2</th>\n",
       "      <td>GARY JIMENEZ</td>\n",
       "      <td>CAPTAIN III (POLICE DEPARTMENT)</td>\n",
       "      <td>155966.02</td>\n",
       "      <td>245131.88</td>\n",
       "      <td>137811.38</td>\n",
       "      <td>NaN</td>\n",
       "      <td>538909.28</td>\n",
       "      <td>538909.28</td>\n",
       "      <td>2011</td>\n",
       "      <td>NaN</td>\n",
       "      <td>San Francisco</td>\n",
       "      <td>NaN</td>\n",
       "    </tr>\n",
       "    <tr>\n",
       "      <th>3</th>\n",
       "      <td>ALBERT PARDINI</td>\n",
       "      <td>CAPTAIN III (POLICE DEPARTMENT)</td>\n",
       "      <td>212739.13</td>\n",
       "      <td>106088.18</td>\n",
       "      <td>16452.6</td>\n",
       "      <td>NaN</td>\n",
       "      <td>335279.91</td>\n",
       "      <td>335279.91</td>\n",
       "      <td>2011</td>\n",
       "      <td>NaN</td>\n",
       "      <td>San Francisco</td>\n",
       "      <td>NaN</td>\n",
       "    </tr>\n",
       "    <tr>\n",
       "      <th>4</th>\n",
       "      <td>CHRISTOPHER CHONG</td>\n",
       "      <td>WIRE ROPE CABLE MAINTENANCE MECHANIC</td>\n",
       "      <td>77916.0</td>\n",
       "      <td>56120.71</td>\n",
       "      <td>198306.9</td>\n",
       "      <td>NaN</td>\n",
       "      <td>332343.61</td>\n",
       "      <td>332343.61</td>\n",
       "      <td>2011</td>\n",
       "      <td>NaN</td>\n",
       "      <td>San Francisco</td>\n",
       "      <td>NaN</td>\n",
       "    </tr>\n",
       "    <tr>\n",
       "      <th>5</th>\n",
       "      <td>PATRICK GARDNER</td>\n",
       "      <td>DEPUTY CHIEF OF DEPARTMENT,(FIRE DEPARTMENT)</td>\n",
       "      <td>134401.6</td>\n",
       "      <td>9737.0</td>\n",
       "      <td>182234.59</td>\n",
       "      <td>NaN</td>\n",
       "      <td>326373.19</td>\n",
       "      <td>326373.19</td>\n",
       "      <td>2011</td>\n",
       "      <td>NaN</td>\n",
       "      <td>San Francisco</td>\n",
       "      <td>NaN</td>\n",
       "    </tr>\n",
       "    <tr>\n",
       "      <th>...</th>\n",
       "      <td>...</td>\n",
       "      <td>...</td>\n",
       "      <td>...</td>\n",
       "      <td>...</td>\n",
       "      <td>...</td>\n",
       "      <td>...</td>\n",
       "      <td>...</td>\n",
       "      <td>...</td>\n",
       "      <td>...</td>\n",
       "      <td>...</td>\n",
       "      <td>...</td>\n",
       "      <td>...</td>\n",
       "    </tr>\n",
       "    <tr>\n",
       "      <th>148650</th>\n",
       "      <td>Roy I Tillery</td>\n",
       "      <td>Custodian</td>\n",
       "      <td>0.00</td>\n",
       "      <td>0.00</td>\n",
       "      <td>0.00</td>\n",
       "      <td>0.00</td>\n",
       "      <td>0.00</td>\n",
       "      <td>0.00</td>\n",
       "      <td>2014</td>\n",
       "      <td>NaN</td>\n",
       "      <td>San Francisco</td>\n",
       "      <td>PT</td>\n",
       "    </tr>\n",
       "    <tr>\n",
       "      <th>148651</th>\n",
       "      <td>Not provided</td>\n",
       "      <td>Not provided</td>\n",
       "      <td>Not Provided</td>\n",
       "      <td>Not Provided</td>\n",
       "      <td>Not Provided</td>\n",
       "      <td>Not Provided</td>\n",
       "      <td>0.00</td>\n",
       "      <td>0.00</td>\n",
       "      <td>2014</td>\n",
       "      <td>NaN</td>\n",
       "      <td>San Francisco</td>\n",
       "      <td>NaN</td>\n",
       "    </tr>\n",
       "    <tr>\n",
       "      <th>148652</th>\n",
       "      <td>Not provided</td>\n",
       "      <td>Not provided</td>\n",
       "      <td>Not Provided</td>\n",
       "      <td>Not Provided</td>\n",
       "      <td>Not Provided</td>\n",
       "      <td>Not Provided</td>\n",
       "      <td>0.00</td>\n",
       "      <td>0.00</td>\n",
       "      <td>2014</td>\n",
       "      <td>NaN</td>\n",
       "      <td>San Francisco</td>\n",
       "      <td>NaN</td>\n",
       "    </tr>\n",
       "    <tr>\n",
       "      <th>148653</th>\n",
       "      <td>Not provided</td>\n",
       "      <td>Not provided</td>\n",
       "      <td>Not Provided</td>\n",
       "      <td>Not Provided</td>\n",
       "      <td>Not Provided</td>\n",
       "      <td>Not Provided</td>\n",
       "      <td>0.00</td>\n",
       "      <td>0.00</td>\n",
       "      <td>2014</td>\n",
       "      <td>NaN</td>\n",
       "      <td>San Francisco</td>\n",
       "      <td>NaN</td>\n",
       "    </tr>\n",
       "    <tr>\n",
       "      <th>148654</th>\n",
       "      <td>Joe Lopez</td>\n",
       "      <td>Counselor, Log Cabin Ranch</td>\n",
       "      <td>0.00</td>\n",
       "      <td>0.00</td>\n",
       "      <td>-618.13</td>\n",
       "      <td>0.00</td>\n",
       "      <td>-618.13</td>\n",
       "      <td>-618.13</td>\n",
       "      <td>2014</td>\n",
       "      <td>NaN</td>\n",
       "      <td>San Francisco</td>\n",
       "      <td>PT</td>\n",
       "    </tr>\n",
       "  </tbody>\n",
       "</table>\n",
       "<p>148654 rows × 12 columns</p>\n",
       "</div>"
      ],
      "text/plain": [
       "             EmployeeName                                        JobTitle  \\\n",
       "Id                                                                          \n",
       "1          NATHANIEL FORD  GENERAL MANAGER-METROPOLITAN TRANSIT AUTHORITY   \n",
       "2            GARY JIMENEZ                 CAPTAIN III (POLICE DEPARTMENT)   \n",
       "3          ALBERT PARDINI                 CAPTAIN III (POLICE DEPARTMENT)   \n",
       "4       CHRISTOPHER CHONG            WIRE ROPE CABLE MAINTENANCE MECHANIC   \n",
       "5         PATRICK GARDNER    DEPUTY CHIEF OF DEPARTMENT,(FIRE DEPARTMENT)   \n",
       "...                   ...                                             ...   \n",
       "148650      Roy I Tillery                                       Custodian   \n",
       "148651       Not provided                                    Not provided   \n",
       "148652       Not provided                                    Not provided   \n",
       "148653       Not provided                                    Not provided   \n",
       "148654          Joe Lopez                      Counselor, Log Cabin Ranch   \n",
       "\n",
       "             BasePay   OvertimePay      OtherPay      Benefits   TotalPay  \\\n",
       "Id                                                                          \n",
       "1          167411.18           0.0     400184.25           NaN  567595.43   \n",
       "2          155966.02     245131.88     137811.38           NaN  538909.28   \n",
       "3          212739.13     106088.18       16452.6           NaN  335279.91   \n",
       "4            77916.0      56120.71      198306.9           NaN  332343.61   \n",
       "5           134401.6        9737.0     182234.59           NaN  326373.19   \n",
       "...              ...           ...           ...           ...        ...   \n",
       "148650          0.00          0.00          0.00          0.00       0.00   \n",
       "148651  Not Provided  Not Provided  Not Provided  Not Provided       0.00   \n",
       "148652  Not Provided  Not Provided  Not Provided  Not Provided       0.00   \n",
       "148653  Not Provided  Not Provided  Not Provided  Not Provided       0.00   \n",
       "148654          0.00          0.00       -618.13          0.00    -618.13   \n",
       "\n",
       "        TotalPayBenefits  Year  Notes         Agency Status  \n",
       "Id                                                           \n",
       "1              567595.43  2011    NaN  San Francisco    NaN  \n",
       "2              538909.28  2011    NaN  San Francisco    NaN  \n",
       "3              335279.91  2011    NaN  San Francisco    NaN  \n",
       "4              332343.61  2011    NaN  San Francisco    NaN  \n",
       "5              326373.19  2011    NaN  San Francisco    NaN  \n",
       "...                  ...   ...    ...            ...    ...  \n",
       "148650              0.00  2014    NaN  San Francisco     PT  \n",
       "148651              0.00  2014    NaN  San Francisco    NaN  \n",
       "148652              0.00  2014    NaN  San Francisco    NaN  \n",
       "148653              0.00  2014    NaN  San Francisco    NaN  \n",
       "148654           -618.13  2014    NaN  San Francisco     PT  \n",
       "\n",
       "[148654 rows x 12 columns]"
      ]
     },
     "execution_count": 244,
     "metadata": {},
     "output_type": "execute_result"
    }
   ],
   "source": [
    "df_salaries = pd.read_csv('../../../data/csv/salaries.csv', low_memory = False, index_col=0)\n",
    "df_salaries"
   ]
  },
  {
   "cell_type": "code",
   "execution_count": 245,
   "metadata": {},
   "outputs": [
    {
     "data": {
      "text/plain": [
       "(148654, 12)"
      ]
     },
     "execution_count": 245,
     "metadata": {},
     "output_type": "execute_result"
    }
   ],
   "source": [
    "df_salaries.shape"
   ]
  },
  {
   "cell_type": "code",
   "execution_count": 246,
   "metadata": {},
   "outputs": [
    {
     "name": "stdout",
     "output_type": "stream",
     "text": [
      "<class 'pandas.core.frame.DataFrame'>\n",
      "Int64Index: 148654 entries, 1 to 148654\n",
      "Data columns (total 12 columns):\n",
      " #   Column            Non-Null Count   Dtype  \n",
      "---  ------            --------------   -----  \n",
      " 0   EmployeeName      148654 non-null  object \n",
      " 1   JobTitle          148654 non-null  object \n",
      " 2   BasePay           148049 non-null  object \n",
      " 3   OvertimePay       148654 non-null  object \n",
      " 4   OtherPay          148654 non-null  object \n",
      " 5   Benefits          112495 non-null  object \n",
      " 6   TotalPay          148654 non-null  float64\n",
      " 7   TotalPayBenefits  148654 non-null  float64\n",
      " 8   Year              148654 non-null  int64  \n",
      " 9   Notes             0 non-null       float64\n",
      " 10  Agency            148654 non-null  object \n",
      " 11  Status            38119 non-null   object \n",
      "dtypes: float64(3), int64(1), object(8)\n",
      "memory usage: 14.7+ MB\n"
     ]
    }
   ],
   "source": [
    "df_salaries.info()"
   ]
  },
  {
   "cell_type": "markdown",
   "metadata": {},
   "source": [
    "---\n",
    "### Analysis"
   ]
  },
  {
   "cell_type": "code",
   "execution_count": 247,
   "metadata": {},
   "outputs": [
    {
     "name": "stdout",
     "output_type": "stream",
     "text": [
      "Total number of records in the SF Salaries dataset: 148654\n"
     ]
    }
   ],
   "source": [
    "# What is the total number of records the SF Salaries dataset?\n",
    "print(f\"Total number of records in the SF Salaries dataset: {df_salaries.shape.__getitem__(0)}\")"
   ]
  },
  {
   "cell_type": "code",
   "execution_count": 248,
   "metadata": {},
   "outputs": [
    {
     "name": "stdout",
     "output_type": "stream",
     "text": [
      "Average base pay of all employees in the year 2012: 65436\n"
     ]
    }
   ],
   "source": [
    "# What was the average (mean) BasePay of all employees for the year 2012?\n",
    "\n",
    "## Check and replace [None] and ['Not Provided] values with np.nan\n",
    "df_salaries.loc[df_salaries['BasePay'].isin(['Not Provided', None]), ['BasePay']]\n",
    "df_salaries['BasePay'] = df_salaries['BasePay'].replace([None, 'Not Provided'], np.nan)\n",
    "\n",
    "# Converting data type to float as to allow aggregation\n",
    "df_salaries['BasePay'] = df_salaries['BasePay'].astype(float)\n",
    "\n",
    "## Getting average base pay of all employees for the year 2012\n",
    "print(f\"Average base pay of all employees in the year 2012: {df_salaries.groupby('Year').get_group(2012)['BasePay'].mean().__round__()}\")"
   ]
  },
  {
   "cell_type": "code",
   "execution_count": 253,
   "metadata": {},
   "outputs": [
    {
     "name": "stdout",
     "output_type": "stream",
     "text": [
      "Nuber of unique job titles: 2158\n"
     ]
    }
   ],
   "source": [
    "# How many unique job titles are there?\n",
    "\n",
    "## Replacing ['Not provided] string values with none\n",
    "df_salaries['JobTitle'] = df_salaries['JobTitle'].replace([np.nan, 'Not provided'], None)\n",
    "\n",
    "## Filtering through the data frame by ignoring the [None] values and counting unique job titles\n",
    "print(f\"Nuber of unique job titles: {df_salaries.loc[~df_salaries['JobTitle'].isin([None]), 'JobTitle'].nunique()}\")"
   ]
  },
  {
   "cell_type": "code",
   "execution_count": 271,
   "metadata": {},
   "outputs": [
    {
     "name": "stdout",
     "output_type": "stream",
     "text": [
      "Name of the agency for which the salaries come from: San Francisco\n"
     ]
    }
   ],
   "source": [
    "# What is the name of the agency for which the salaries come from?\n",
    "print(f\"Name of the agency for which the salaries come from: {df_salaries['Agency'].value_counts().keys()[0]}\")"
   ]
  },
  {
   "cell_type": "code",
   "execution_count": 313,
   "metadata": {},
   "outputs": [
    {
     "name": "stdout",
     "output_type": "stream",
     "text": [
      "Employee who has the mininum base pay: Irwin Sidharta\n"
     ]
    }
   ],
   "source": [
    "# Who has the minimum base pay?\n",
    "print(f\"Employee who has the mininum base pay: {df_salaries.loc[df_salaries['BasePay'].isin([df_salaries['BasePay'].min()]), 'EmployeeName'].values[0]}\")"
   ]
  },
  {
   "cell_type": "code",
   "execution_count": 343,
   "metadata": {},
   "outputs": [
    {
     "name": "stdout",
     "output_type": "stream",
     "text": [
      "Year of which employees work more than their prescribed work time: 2014\n"
     ]
    }
   ],
   "source": [
    "# Which year do you think did the employees work more than their prescribed work time in terms of total pay?\n",
    "\n",
    "## Checking and replacing of string values to [np.NaN]\n",
    "df_salaries['OvertimePay'] = df_salaries['OvertimePay'].replace(['Not Provided'], np.nan)\n",
    "\n",
    "## Converting to float data type\n",
    "df_salaries['OvertimePay'] = df_salaries['OvertimePay'].astype(float)\n",
    "\n",
    "## Getting year of which employees work more than their prescribed work time in terms of total pay\n",
    "print(f\"Year of which employees work more than their prescribed work time: {df_salaries.loc[df_salaries['OvertimePay'] > 0, 'Year'].value_counts().keys()[0]}\")"
   ]
  },
  {
   "cell_type": "code",
   "execution_count": 349,
   "metadata": {},
   "outputs": [
    {
     "name": "stdout",
     "output_type": "stream",
     "text": [
      "Highest amount of overtime pay in the dataset: 245132\n"
     ]
    }
   ],
   "source": [
    "# What is the highest amount of OvertimePay in the dataset?\n",
    "print(f\"Highest amount of overtime pay in the dataset: {round(df_salaries['OvertimePay'].max())}\")"
   ]
  },
  {
   "cell_type": "code",
   "execution_count": 355,
   "metadata": {},
   "outputs": [
    {
     "name": "stdout",
     "output_type": "stream",
     "text": [
      "Average base pay for the dataset: 66325\n"
     ]
    }
   ],
   "source": [
    "# What is the average BasePay for the dataset?\n",
    "print(f\"Average base pay for the dataset: {df_salaries['BasePay'].mean().__round__()}\")"
   ]
  },
  {
   "cell_type": "code",
   "execution_count": 376,
   "metadata": {},
   "outputs": [
    {
     "name": "stdout",
     "output_type": "stream",
     "text": [
      "Maximum benefits value of all employees for the year 2014: 96571\n"
     ]
    }
   ],
   "source": [
    "# What was the maximum Benefits value of all employees for the year 2014?\n",
    "\n",
    "## Replacing string ['Not Provided'] values with [np.NaN]\n",
    "df_salaries['Benefits'] = df_salaries['Benefits'].replace(['Not Provided'], np.nan)\n",
    "\n",
    "## Converting data type to float\n",
    "df_salaries['Benefits'] = df_salaries['Benefits'].astype(float)\n",
    "\n",
    "print(f\"Maximum benefits value of all employees for the year 2014: {round(df_salaries.groupby('Year').get_group(2014)['Benefits'].max())}\")"
   ]
  },
  {
   "cell_type": "code",
   "execution_count": 388,
   "metadata": {},
   "outputs": [
    {
     "name": "stdout",
     "output_type": "stream",
     "text": [
      "Job title that has the 2nd most number of employees in the year 2014: Special Nurse\n"
     ]
    }
   ],
   "source": [
    "# What job title has the 2nd most number of employees in the year 2014?\n",
    "print(f\"Job title that has the 2nd most number of employees in the year 2014: {df_salaries.groupby('Year').get_group(2014)['JobTitle'].value_counts().keys()[1]}\")"
   ]
  }
 ],
 "metadata": {
  "interpreter": {
   "hash": "6b8a6e58ac7c32b1c8ab246be7c43cc3ee599025da1f8fa5c32148455ad35f52"
  },
  "kernelspec": {
   "display_name": "Python 3.9.7 ('custev')",
   "language": "python",
   "name": "python3"
  },
  "language_info": {
   "codemirror_mode": {
    "name": "ipython",
    "version": 3
   },
   "file_extension": ".py",
   "mimetype": "text/x-python",
   "name": "python",
   "nbconvert_exporter": "python",
   "pygments_lexer": "ipython3",
   "version": "3.9.7"
  },
  "orig_nbformat": 4
 },
 "nbformat": 4,
 "nbformat_minor": 2
}
