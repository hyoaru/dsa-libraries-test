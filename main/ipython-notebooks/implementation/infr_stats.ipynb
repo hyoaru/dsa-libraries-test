{
 "cells": [
  {
   "cell_type": "code",
   "execution_count": 8,
   "metadata": {},
   "outputs": [],
   "source": [
    "from scipy.stats import ttest_1samp\n",
    "from scipy.stats import ttest_ind\n",
    "from scipy.stats import chi2\n",
    "from scipy import stats\n",
    "from statsmodels.stats import weightstats as stests\n",
    "from statsmodels.formula.api import ols\n",
    "import numpy as np\n",
    "import pandas as pd\n",
    "import statsmodels.api as sm"
   ]
  },
  {
   "cell_type": "markdown",
   "metadata": {},
   "source": [
    "## Hypothesis testing"
   ]
  },
  {
   "cell_type": "markdown",
   "metadata": {},
   "source": [
    "### One sampled t-test\n",
    "Determine if the average height of samples are 162 cm or not. Use alpha = 0.05\n",
    "* H0: u = 162\n",
    "* Ha: u != 162"
   ]
  },
  {
   "cell_type": "code",
   "execution_count": 9,
   "metadata": {},
   "outputs": [],
   "source": [
    "df_heights = pd.DataFrame(np.genfromtxt(r'../../../data/csv/heights.csv')).rename(columns = {0 : 'heights'})"
   ]
  },
  {
   "cell_type": "code",
   "execution_count": 76,
   "metadata": {},
   "outputs": [
    {
     "name": "stdout",
     "output_type": "stream",
     "text": [
      "Heights mean: 163.54\n",
      "Heights p-values: [0.33774547] fail to reject the null hypothesis\n"
     ]
    }
   ],
   "source": [
    "# Getting the mean\n",
    "var_mean_df_heights = df_heights.mean().values[0]\n",
    "print(f'Heights mean: {var_mean_df_heights}')\n",
    "\n",
    "# Getting the p-value\n",
    "var_pval_df_heights = ttest_1samp(df_heights, 162)[1]\n",
    "print(f'Heights p-values: {var_pval_df_heights} ' + ('reject the null hypothesis' if var_pval_df_heights < 0.05 else 'fail to reject the null hypothesis'))"
   ]
  },
  {
   "cell_type": "markdown",
   "metadata": {},
   "source": [
    "### Two sampled t-test\n",
    "Determine if the sales of a time period 1 is statistically different from the sales of another time period 2. Use alpha = 0.05\n",
    "* H0: u1 - u2 = 0 -> H0: u1 = u2\n",
    "* Ha: u1 - u2 != 0 -> Ha: u1 != u2 "
   ]
  },
  {
   "cell_type": "code",
   "execution_count": 42,
   "metadata": {},
   "outputs": [
    {
     "data": {
      "text/html": [
       "<div>\n",
       "<style scoped>\n",
       "    .dataframe tbody tr th:only-of-type {\n",
       "        vertical-align: middle;\n",
       "    }\n",
       "\n",
       "    .dataframe tbody tr th {\n",
       "        vertical-align: top;\n",
       "    }\n",
       "\n",
       "    .dataframe thead th {\n",
       "        text-align: right;\n",
       "    }\n",
       "</style>\n",
       "<table border=\"1\" class=\"dataframe\">\n",
       "  <thead>\n",
       "    <tr style=\"text-align: right;\">\n",
       "      <th></th>\n",
       "      <th>week1</th>\n",
       "      <th>week2</th>\n",
       "    </tr>\n",
       "  </thead>\n",
       "  <tbody>\n",
       "    <tr>\n",
       "      <th>0</th>\n",
       "      <td>170.0</td>\n",
       "      <td>169.0</td>\n",
       "    </tr>\n",
       "    <tr>\n",
       "      <th>1</th>\n",
       "      <td>169.0</td>\n",
       "      <td>164.0</td>\n",
       "    </tr>\n",
       "    <tr>\n",
       "      <th>2</th>\n",
       "      <td>177.0</td>\n",
       "      <td>173.0</td>\n",
       "    </tr>\n",
       "    <tr>\n",
       "      <th>3</th>\n",
       "      <td>179.0</td>\n",
       "      <td>172.0</td>\n",
       "    </tr>\n",
       "    <tr>\n",
       "      <th>4</th>\n",
       "      <td>166.0</td>\n",
       "      <td>161.0</td>\n",
       "    </tr>\n",
       "  </tbody>\n",
       "</table>\n",
       "</div>"
      ],
      "text/plain": [
       "   week1  week2\n",
       "0  170.0  169.0\n",
       "1  169.0  164.0\n",
       "2  177.0  173.0\n",
       "3  179.0  172.0\n",
       "4  166.0  161.0"
      ]
     },
     "execution_count": 42,
     "metadata": {},
     "output_type": "execute_result"
    }
   ],
   "source": [
    "df_unitsales = pd.DataFrame(dict(\n",
    "    week1 = np.genfromtxt(r'../../../data/csv/unitsales1.csv'),\n",
    "    week2 = np.genfromtxt(r'../../../data/csv/unitsales2.csv'),\n",
    "))\n",
    "\n",
    "df_unitsales.head(5)"
   ]
  },
  {
   "cell_type": "code",
   "execution_count": 47,
   "metadata": {},
   "outputs": [],
   "source": [
    "# Getting the mean\n",
    "var_mean_week1_df_unitsales = df_unitsales['week1'].mean()\n",
    "var_mean_week2_df_unitsales = df_unitsales['week2'].mean()\n",
    "\n",
    "# Getting the standard deviation\n",
    "var_std_week1_df_unitsales = df_unitsales['week1'].std()\n",
    "var_std_week2_df_unitsales = df_unitsales['week2'].std()"
   ]
  },
  {
   "cell_type": "code",
   "execution_count": 48,
   "metadata": {},
   "outputs": [
    {
     "name": "stdout",
     "output_type": "stream",
     "text": [
      "Unit sales\n",
      "Week 1 mean: 170.6\n",
      "Week 1 std: 6.021390442177194\n",
      "Week 2 mean: 166.13333333333333\n",
      "Week 2 std: 7.268981719477304\n"
     ]
    }
   ],
   "source": [
    "print('Unit sales')\n",
    "print(f'Week 1 mean: {var_mean_week1_df_unitsales}')\n",
    "print(f'Week 1 std: {var_std_week1_df_unitsales}')\n",
    "print(f'Week 2 mean: {var_mean_week2_df_unitsales}')\n",
    "print(f'Week 2 std: {var_std_week2_df_unitsales}')"
   ]
  },
  {
   "cell_type": "code",
   "execution_count": 62,
   "metadata": {},
   "outputs": [
    {
     "name": "stdout",
     "output_type": "stream",
     "text": [
      "Unit sales p-value: 0.0774950425746379 fail to reject null hypothesis\n"
     ]
    }
   ],
   "source": [
    "# Getting p-value using independent ttest\n",
    "var_pval_df_unitsales = ttest_ind(df_unitsales['week1'], df_unitsales['week2'])[1]\n",
    "\n",
    "print(f'Unit sales p-value: {var_pval_df_unitsales} ' + ('reject null hypothesis' if var_pval_df_unitsales < 0.05 else 'fail to reject null hypothesis'))"
   ]
  },
  {
   "cell_type": "markdown",
   "metadata": {},
   "source": [
    "### Paired sampled t-Test\n",
    "Determine if the performance of a time period is 1 is statistically different from the sales of another time period 2.\n",
    "* H0: u1 - u2 = 0 -> H0: u1 = u2\n",
    "* Ha: u1 - u2 != 0 -> Ha: u1 != u2 "
   ]
  },
  {
   "cell_type": "code",
   "execution_count": 67,
   "metadata": {},
   "outputs": [
    {
     "data": {
      "text/html": [
       "<div>\n",
       "<style scoped>\n",
       "    .dataframe tbody tr th:only-of-type {\n",
       "        vertical-align: middle;\n",
       "    }\n",
       "\n",
       "    .dataframe tbody tr th {\n",
       "        vertical-align: top;\n",
       "    }\n",
       "\n",
       "    .dataframe thead th {\n",
       "        text-align: right;\n",
       "    }\n",
       "</style>\n",
       "<table border=\"1\" class=\"dataframe\">\n",
       "  <thead>\n",
       "    <tr style=\"text-align: right;\">\n",
       "      <th></th>\n",
       "      <th>perf_before</th>\n",
       "      <th>perf_after</th>\n",
       "    </tr>\n",
       "  </thead>\n",
       "  <tbody>\n",
       "    <tr>\n",
       "      <th>0</th>\n",
       "      <td>62</td>\n",
       "      <td>62</td>\n",
       "    </tr>\n",
       "    <tr>\n",
       "      <th>1</th>\n",
       "      <td>67</td>\n",
       "      <td>82</td>\n",
       "    </tr>\n",
       "    <tr>\n",
       "      <th>2</th>\n",
       "      <td>78</td>\n",
       "      <td>65</td>\n",
       "    </tr>\n",
       "    <tr>\n",
       "      <th>3</th>\n",
       "      <td>67</td>\n",
       "      <td>60</td>\n",
       "    </tr>\n",
       "    <tr>\n",
       "      <th>4</th>\n",
       "      <td>63</td>\n",
       "      <td>73</td>\n",
       "    </tr>\n",
       "  </tbody>\n",
       "</table>\n",
       "</div>"
      ],
      "text/plain": [
       "   perf_before  perf_after\n",
       "0           62          62\n",
       "1           67          82\n",
       "2           78          65\n",
       "3           67          60\n",
       "4           63          73"
      ]
     },
     "execution_count": 67,
     "metadata": {},
     "output_type": "execute_result"
    }
   ],
   "source": [
    "df_pairedperf = pd.read_csv(r'../../../data/csv/pairedperformance.csv')\n",
    "df_pairedperf.head()"
   ]
  },
  {
   "cell_type": "code",
   "execution_count": 77,
   "metadata": {},
   "outputs": [
    {
     "name": "stdout",
     "output_type": "stream",
     "text": [
      "Paired performance p-value: 0.4178997657102256 fail to reject the null hypothesis\n"
     ]
    }
   ],
   "source": [
    "# Getting p-value using t-test on two related samples\n",
    "var_pval_df_pairedperf = stats.ttest_rel(df_pairedperf['perf_before'], df_pairedperf['perf_after'])[1]\n",
    "print(f'Paired performance p-value: {var_pval_df_pairedperf} ' + ('reject the null hypothesis' if var_pval_df_pairedperf < 0.05 else 'fail to reject the null hypothesis'))"
   ]
  },
  {
   "cell_type": "markdown",
   "metadata": {},
   "source": [
    "### One sample z-test\n",
    "* Determine if the mean of the population is some number based on the samples.\n",
    "* Determine if the average performance scores of samples is 65 or not. Use alpha = 0.05\n",
    "  * H0: u = 65\n",
    "  * Ha: u != 65"
   ]
  },
  {
   "cell_type": "code",
   "execution_count": 82,
   "metadata": {},
   "outputs": [
    {
     "data": {
      "text/html": [
       "<div>\n",
       "<style scoped>\n",
       "    .dataframe tbody tr th:only-of-type {\n",
       "        vertical-align: middle;\n",
       "    }\n",
       "\n",
       "    .dataframe tbody tr th {\n",
       "        vertical-align: top;\n",
       "    }\n",
       "\n",
       "    .dataframe thead th {\n",
       "        text-align: right;\n",
       "    }\n",
       "</style>\n",
       "<table border=\"1\" class=\"dataframe\">\n",
       "  <thead>\n",
       "    <tr style=\"text-align: right;\">\n",
       "      <th></th>\n",
       "      <th>perf_before</th>\n",
       "      <th>perf_after</th>\n",
       "    </tr>\n",
       "  </thead>\n",
       "  <tbody>\n",
       "    <tr>\n",
       "      <th>0</th>\n",
       "      <td>62</td>\n",
       "      <td>62</td>\n",
       "    </tr>\n",
       "    <tr>\n",
       "      <th>1</th>\n",
       "      <td>67</td>\n",
       "      <td>82</td>\n",
       "    </tr>\n",
       "    <tr>\n",
       "      <th>2</th>\n",
       "      <td>78</td>\n",
       "      <td>65</td>\n",
       "    </tr>\n",
       "    <tr>\n",
       "      <th>3</th>\n",
       "      <td>67</td>\n",
       "      <td>60</td>\n",
       "    </tr>\n",
       "    <tr>\n",
       "      <th>4</th>\n",
       "      <td>63</td>\n",
       "      <td>73</td>\n",
       "    </tr>\n",
       "  </tbody>\n",
       "</table>\n",
       "</div>"
      ],
      "text/plain": [
       "   perf_before  perf_after\n",
       "0           62          62\n",
       "1           67          82\n",
       "2           78          65\n",
       "3           67          60\n",
       "4           63          73"
      ]
     },
     "execution_count": 82,
     "metadata": {},
     "output_type": "execute_result"
    }
   ],
   "source": [
    "df_performances = pd.read_csv(r'../../../data/csv/performancez.csv')\n",
    "df_performances.head()"
   ]
  },
  {
   "cell_type": "code",
   "execution_count": 89,
   "metadata": {},
   "outputs": [
    {
     "name": "stdout",
     "output_type": "stream",
     "text": [
      "Performance p-value: 0.0007847889688732645 reject the null hypothesis\n"
     ]
    }
   ],
   "source": [
    "# Getting the p-value\n",
    "var_pval_1samp_df_performances = stests.ztest((df_performances['perf_before']), x2 = None, value = 65)[1]\n",
    "print(f'Performance 1samp p-value: {var_pval_1samp_df_performances} ' + ('reject the null hypothesis' if var_pval_1samp_df_performances < 0.05 else 'fail to reject the null hypothesis'))"
   ]
  },
  {
   "cell_type": "markdown",
   "metadata": {},
   "source": [
    "### Two sample z-test\n",
    "* Similar to two sample t-test, determine two independent group of samples if their sample means are equal or not.\n",
    "* Determine if the average performance scores of the two samples are equal or not. Use alpha = 0.05\n",
    "  * H0: u1 - u2 = 0\n",
    "  * Ha: u1 - u2 != 0"
   ]
  },
  {
   "cell_type": "code",
   "execution_count": 92,
   "metadata": {},
   "outputs": [
    {
     "name": "stdout",
     "output_type": "stream",
     "text": [
      "Performance 2samp p-value: 0.217033050353992 fail to reject null hypothesis\n"
     ]
    }
   ],
   "source": [
    "var_pval_2samp_df_performances = stests.ztest(x1 = df_performances['perf_before'], x2 = df_performances['perf_after'], value = 0, alternative = 'two-sided')[1]\n",
    "print(f'Performance 2samp p-value: {var_pval_2samp_df_performances} ' + ('reject null hypothesis' if var_pval_2samp_df_performances < 0.05 else 'fail to reject null hypothesis'))"
   ]
  },
  {
   "cell_type": "markdown",
   "metadata": {},
   "source": [
    "### One way f-test\n",
    "* This tells us where two or more groups are similar or not based on their similarity and f-score.\n",
    "* Three plant categories and their weights are recorded.\n",
    "* Determine if all groups are similar or not. Use alpha = 0.05"
   ]
  },
  {
   "cell_type": "code",
   "execution_count": 96,
   "metadata": {},
   "outputs": [
    {
     "data": {
      "text/html": [
       "<div>\n",
       "<style scoped>\n",
       "    .dataframe tbody tr th:only-of-type {\n",
       "        vertical-align: middle;\n",
       "    }\n",
       "\n",
       "    .dataframe tbody tr th {\n",
       "        vertical-align: top;\n",
       "    }\n",
       "\n",
       "    .dataframe thead th {\n",
       "        text-align: right;\n",
       "    }\n",
       "</style>\n",
       "<table border=\"1\" class=\"dataframe\">\n",
       "  <thead>\n",
       "    <tr style=\"text-align: right;\">\n",
       "      <th></th>\n",
       "      <th>weight</th>\n",
       "      <th>group</th>\n",
       "    </tr>\n",
       "  </thead>\n",
       "  <tbody>\n",
       "    <tr>\n",
       "      <th>1</th>\n",
       "      <td>5.61</td>\n",
       "      <td>ctrl</td>\n",
       "    </tr>\n",
       "    <tr>\n",
       "      <th>2</th>\n",
       "      <td>6.41</td>\n",
       "      <td>ctrl</td>\n",
       "    </tr>\n",
       "    <tr>\n",
       "      <th>3</th>\n",
       "      <td>6.15</td>\n",
       "      <td>ctrl</td>\n",
       "    </tr>\n",
       "    <tr>\n",
       "      <th>4</th>\n",
       "      <td>8.11</td>\n",
       "      <td>ctrl</td>\n",
       "    </tr>\n",
       "    <tr>\n",
       "      <th>5</th>\n",
       "      <td>6.23</td>\n",
       "      <td>ctrl</td>\n",
       "    </tr>\n",
       "  </tbody>\n",
       "</table>\n",
       "</div>"
      ],
      "text/plain": [
       "   weight group\n",
       "1    5.61  ctrl\n",
       "2    6.41  ctrl\n",
       "3    6.15  ctrl\n",
       "4    8.11  ctrl\n",
       "5    6.23  ctrl"
      ]
     },
     "execution_count": 96,
     "metadata": {},
     "output_type": "execute_result"
    }
   ],
   "source": [
    "df_plantgrowth = pd.read_csv(r'../../../data/csv/plantgrowth.csv', index_col=0)\n",
    "df_plantgrowth.head()"
   ]
  },
  {
   "cell_type": "code",
   "execution_count": 138,
   "metadata": {},
   "outputs": [
    {
     "name": "stdout",
     "output_type": "stream",
     "text": [
      "Plantgrowth p-value: 0.19684951887149554 fail to reject null hypothesis\n"
     ]
    }
   ],
   "source": [
    "# Get p-value using f-test one way\n",
    "var_pval_1w_df_plantgrowth = stats.f_oneway(\n",
    "    df_plantgrowth.groupby('group').get_group('ctrl')['weight'],\n",
    "    df_plantgrowth.groupby('group').get_group('trt1')['weight'],\n",
    "    df_plantgrowth.groupby('group').get_group('trt2')['weight'],\n",
    ")[1]\n",
    "\n",
    "print(f'Plantgrowth p-value: {var_pval_1w_df_plantgrowth} ' + ('reject null hypothesis' if var_pval_1w_df_plantgrowth < 0.05 else 'fail to reject null hypothesis'))"
   ]
  },
  {
   "cell_type": "markdown",
   "metadata": {},
   "source": [
    "### Two way f-test\n",
    "* Investigate the grand mean crop yield of the data set crop yield.\n",
    "* As well as the mean crop yield by each factor.\n",
    "* As well as the factors grouped together."
   ]
  },
  {
   "cell_type": "code",
   "execution_count": 144,
   "metadata": {},
   "outputs": [],
   "source": [
    "df_cropyield = pd.read_csv(f'../../../data/csv/cropyield.csv')"
   ]
  },
  {
   "cell_type": "code",
   "execution_count": 162,
   "metadata": {},
   "outputs": [
    {
     "name": "stdout",
     "output_type": "stream",
     "text": [
      "Overall model_df_cropyield F(3, 16) = 4.112, p = 0.0243\n"
     ]
    },
    {
     "data": {
      "text/html": [
       "<div>\n",
       "<style scoped>\n",
       "    .dataframe tbody tr th:only-of-type {\n",
       "        vertical-align: middle;\n",
       "    }\n",
       "\n",
       "    .dataframe tbody tr th {\n",
       "        vertical-align: top;\n",
       "    }\n",
       "\n",
       "    .dataframe thead th {\n",
       "        text-align: right;\n",
       "    }\n",
       "</style>\n",
       "<table border=\"1\" class=\"dataframe\">\n",
       "  <thead>\n",
       "    <tr style=\"text-align: right;\">\n",
       "      <th></th>\n",
       "      <th>sum_sq</th>\n",
       "      <th>df</th>\n",
       "      <th>F</th>\n",
       "      <th>PR(&gt;F)</th>\n",
       "    </tr>\n",
       "  </thead>\n",
       "  <tbody>\n",
       "    <tr>\n",
       "      <th>C(Fert)</th>\n",
       "      <td>69.192</td>\n",
       "      <td>1.0</td>\n",
       "      <td>5.766000</td>\n",
       "      <td>0.028847</td>\n",
       "    </tr>\n",
       "    <tr>\n",
       "      <th>C(Water)</th>\n",
       "      <td>63.368</td>\n",
       "      <td>1.0</td>\n",
       "      <td>5.280667</td>\n",
       "      <td>0.035386</td>\n",
       "    </tr>\n",
       "    <tr>\n",
       "      <th>C(Fert):C(Water)</th>\n",
       "      <td>15.488</td>\n",
       "      <td>1.0</td>\n",
       "      <td>1.290667</td>\n",
       "      <td>0.272656</td>\n",
       "    </tr>\n",
       "    <tr>\n",
       "      <th>Residual</th>\n",
       "      <td>192.000</td>\n",
       "      <td>16.0</td>\n",
       "      <td>NaN</td>\n",
       "      <td>NaN</td>\n",
       "    </tr>\n",
       "  </tbody>\n",
       "</table>\n",
       "</div>"
      ],
      "text/plain": [
       "                   sum_sq    df         F    PR(>F)\n",
       "C(Fert)            69.192   1.0  5.766000  0.028847\n",
       "C(Water)           63.368   1.0  5.280667  0.035386\n",
       "C(Fert):C(Water)   15.488   1.0  1.290667  0.272656\n",
       "Residual          192.000  16.0       NaN       NaN"
      ]
     },
     "execution_count": 162,
     "metadata": {},
     "output_type": "execute_result"
    }
   ],
   "source": [
    "model_df_cropyield = ols('Yield ~ C(Fert)*C(Water)', df_cropyield).fit()\n",
    "print(f'Overall model_df_cropyield F({model_df_cropyield.df_model:.0f}, {model_df_cropyield.df_resid:.0f}) = {model_df_cropyield.fvalue:.3f}, p = {model_df_cropyield.f_pvalue:.4f}')\n",
    "\n",
    "res_df_cropyield = sm.stats.anova_lm(model_df_cropyield, typ = 2)\n",
    "res_df_cropyield"
   ]
  },
  {
   "cell_type": "markdown",
   "metadata": {},
   "source": [
    "### Chi-square test\n",
    "* In an election survey, voters may be classified by sex [male or female] and voting preference [democrat, republican, or independent]\n",
    "* Test for independence of these two variables to determine if sex is related to voting preference.\n",
    "  * H0: The two samples [voting preference and sex] are independent\n",
    "  * Ha: There is independency between the samples [voting preference and sex]"
   ]
  },
  {
   "cell_type": "code",
   "execution_count": 186,
   "metadata": {},
   "outputs": [
    {
     "data": {
      "text/html": [
       "<div>\n",
       "<style scoped>\n",
       "    .dataframe tbody tr th:only-of-type {\n",
       "        vertical-align: middle;\n",
       "    }\n",
       "\n",
       "    .dataframe tbody tr th {\n",
       "        vertical-align: top;\n",
       "    }\n",
       "\n",
       "    .dataframe thead th {\n",
       "        text-align: right;\n",
       "    }\n",
       "</style>\n",
       "<table border=\"1\" class=\"dataframe\">\n",
       "  <thead>\n",
       "    <tr style=\"text-align: right;\">\n",
       "      <th>Voting Preference</th>\n",
       "      <th>Democrat</th>\n",
       "      <th>Independent</th>\n",
       "      <th>Republican</th>\n",
       "    </tr>\n",
       "    <tr>\n",
       "      <th>Gender</th>\n",
       "      <th></th>\n",
       "      <th></th>\n",
       "      <th></th>\n",
       "    </tr>\n",
       "  </thead>\n",
       "  <tbody>\n",
       "    <tr>\n",
       "      <th>Female</th>\n",
       "      <td>3</td>\n",
       "      <td>2</td>\n",
       "      <td>2</td>\n",
       "    </tr>\n",
       "    <tr>\n",
       "      <th>Male</th>\n",
       "      <td>4</td>\n",
       "      <td>1</td>\n",
       "      <td>3</td>\n",
       "    </tr>\n",
       "  </tbody>\n",
       "</table>\n",
       "</div>"
      ],
      "text/plain": [
       "Voting Preference  Democrat  Independent  Republican\n",
       "Gender                                              \n",
       "Female                    3            2           2\n",
       "Male                      4            1           3"
      ]
     },
     "execution_count": 186,
     "metadata": {},
     "output_type": "execute_result"
    }
   ],
   "source": [
    "df_elecsurvey = pd.read_csv(r'../../../data/csv/chi-test.csv')\n",
    "contigency_table_df_elecsurvey = pd.crosstab(df_elecsurvey['Gender'], df_elecsurvey['Voting Preference'])\n",
    "\n",
    "contigency_table_df_elecsurvey"
   ]
  },
  {
   "cell_type": "code",
   "execution_count": 226,
   "metadata": {},
   "outputs": [
    {
     "data": {
      "text/plain": [
       "array([[3, 2, 2],\n",
       "       [4, 1, 3]])"
      ]
     },
     "execution_count": 226,
     "metadata": {},
     "output_type": "execute_result"
    }
   ],
   "source": [
    "# Observed values\n",
    "var_observedval_df_elecsurvey = contigency_table_df_elecsurvey.values\n",
    "var_observedval_df_elecsurvey"
   ]
  },
  {
   "cell_type": "code",
   "execution_count": 281,
   "metadata": {},
   "outputs": [
    {
     "data": {
      "text/plain": [
       "array([[3.26666667, 1.4       , 2.33333333],\n",
       "       [3.73333333, 1.6       , 2.66666667]])"
      ]
     },
     "execution_count": 281,
     "metadata": {},
     "output_type": "execute_result"
    }
   ],
   "source": [
    "# Expected values\n",
    "var_expectedval_df_elecsurvey = stats.chi2_contingency(contigency_table_df_elecsurvey)[3]\n",
    "var_expectedval_df_elecsurvey"
   ]
  },
  {
   "cell_type": "code",
   "execution_count": 268,
   "metadata": {},
   "outputs": [
    {
     "name": "stdout",
     "output_type": "stream",
     "text": [
      "Degrees of freedom: 2\n"
     ]
    }
   ],
   "source": [
    "# Getting degrees of freedom\n",
    "var_ddof_df_elecsurvey = ((len(contigency_table_df_elecsurvey.columns)-1) * (len(contigency_table_df_elecsurvey.index)-1))\n",
    "print(f'Degrees of freedom: {var_ddof_df_elecsurvey}')\n",
    "var_alpha_df_elecsurvey = 0.05"
   ]
  },
  {
   "cell_type": "code",
   "execution_count": 303,
   "metadata": {},
   "outputs": [
    {
     "name": "stdout",
     "output_type": "stream",
     "text": [
      "Chi-square statistic: 0.6122448979591839\n",
      "Critical value: 5.991464547107979\n",
      "P-value : 0.26370354481366337\n"
     ]
    }
   ],
   "source": [
    "chi_square_df_elecsurvey = sum([(o-e)**2/e for o,e in zip(var_observedval_df_elecsurvey, var_expectedval_df_elecsurvey)])\n",
    "var_chi_square_stat_df_elecsurvey = sum(chi_square_df_elecsurvey)\n",
    "print(f'Chi-square statistic: {var_chi_square_stat_df_elecsurvey}')\n",
    "\n",
    "var_criticalval_df_elecsurvey = chi2.ppf(q = 1 - var_alpha_df_elecsurvey, df = var_ddof_df_elecsurvey)\n",
    "print(f'Critical value: {var_criticalval_df_elecsurvey}')\n",
    "\n",
    "var_pval_df_elecsurvey = chi2.cdf(x = var_chi_square_stat_df_elecsurvey, df = var_ddof_df_elecsurvey)\n",
    "print(f'P-value : {var_pval_df_elecsurvey}')"
   ]
  },
  {
   "cell_type": "code",
   "execution_count": 310,
   "metadata": {},
   "outputs": [
    {
     "name": "stdout",
     "output_type": "stream",
     "text": [
      "Significance level: 0.05\n",
      "Degrees of freedom: 2\n",
      "Chi-square statistic: 0.6122448979591839\n",
      "Critical value: 5.991464547107979\n",
      "P-value: 0.26370354481366337\n"
     ]
    }
   ],
   "source": [
    "print(f'Significance level: {var_alpha_df_elecsurvey}')\n",
    "print(f'Degrees of freedom: {var_ddof_df_elecsurvey}')\n",
    "print(f'Chi-square statistic: {var_chi_square_stat_df_elecsurvey}')\n",
    "print(f'Critical value: {var_criticalval_df_elecsurvey}')\n",
    "print(f'P-value: {var_pval_df_elecsurvey}')"
   ]
  },
  {
   "cell_type": "code",
   "execution_count": 317,
   "metadata": {},
   "outputs": [
    {
     "name": "stdout",
     "output_type": "stream",
     "text": [
      "Using chi-square statistic: 0.6122448979591839\n",
      "Retain H0, there is no relationship between categorical variables\n",
      "\n",
      "Using p-value: 0.26370354481366337\n",
      "Retain H0, there is no relationship between categorical variables\n"
     ]
    }
   ],
   "source": [
    "# Chi square statistic interpretation\n",
    "print(f'Using chi-square statistic: {var_chi_square_stat_df_elecsurvey}')\n",
    "print(f'Reject H0, there is a relationship between categorical cariables' if var_chi_square_stat_df_elecsurvey >= var_criticalval_df_elecsurvey else 'Retain H0, there is no relationship between categorical variables')\n",
    "\n",
    "# Using p-value\n",
    "print(f'\\nUsing p-value: {var_pval_df_elecsurvey}')\n",
    "print(f'Reject H0, there is a relationship between categorical cariables' if var_pval_df_elecsurvey <= var_alpha_df_elecsurvey else 'Retain H0, there is no relationship between categorical variables')"
   ]
  }
 ],
 "metadata": {
  "interpreter": {
   "hash": "6b8a6e58ac7c32b1c8ab246be7c43cc3ee599025da1f8fa5c32148455ad35f52"
  },
  "kernelspec": {
   "display_name": "Python 3.9.7 ('custev')",
   "language": "python",
   "name": "python3"
  },
  "language_info": {
   "codemirror_mode": {
    "name": "ipython",
    "version": 3
   },
   "file_extension": ".py",
   "mimetype": "text/x-python",
   "name": "python",
   "nbconvert_exporter": "python",
   "pygments_lexer": "ipython3",
   "version": "3.9.7"
  },
  "orig_nbformat": 4
 },
 "nbformat": 4,
 "nbformat_minor": 2
}
