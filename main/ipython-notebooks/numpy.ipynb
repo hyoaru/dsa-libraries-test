{
 "cells": [
  {
   "cell_type": "markdown",
   "metadata": {},
   "source": [
    "# Numpy methods testing"
   ]
  },
  {
   "cell_type": "markdown",
   "metadata": {},
   "source": [
    "---\n",
    "## Basic numpy"
   ]
  },
  {
   "cell_type": "code",
   "execution_count": 67,
   "metadata": {},
   "outputs": [],
   "source": [
    "import numpy as np"
   ]
  },
  {
   "cell_type": "code",
   "execution_count": 68,
   "metadata": {},
   "outputs": [],
   "source": [
    "# Vectors and matrix with numpy\n",
    "test_list = [1,2,3]\n",
    "test_matrix = [[1,2,3], [4,5,6], [7,8,9]]"
   ]
  },
  {
   "cell_type": "code",
   "execution_count": 69,
   "metadata": {},
   "outputs": [
    {
     "name": "stdout",
     "output_type": "stream",
     "text": [
      "[1, 2, 3]\n",
      "[[1, 2, 3], [4, 5, 6], [7, 8, 9]]\n"
     ]
    }
   ],
   "source": [
    "# Python list and matrix\n",
    "print(test_list)\n",
    "print(test_matrix)"
   ]
  },
  {
   "cell_type": "code",
   "execution_count": 70,
   "metadata": {},
   "outputs": [
    {
     "name": "stdout",
     "output_type": "stream",
     "text": [
      "[1 2 3]\n",
      "[[1 2 3]\n",
      " [4 5 6]\n",
      " [7 8 9]]\n"
     ]
    }
   ],
   "source": [
    "# Numpy list and matrix\n",
    "print(np.array(test_list))\n",
    "print(np.array(test_matrix))"
   ]
  },
  {
   "cell_type": "code",
   "execution_count": 71,
   "metadata": {},
   "outputs": [
    {
     "name": "stdout",
     "output_type": "stream",
     "text": [
      "[1 2 3 4 5 6 7 8 9]\n",
      "[1 2 3 4 5 6 7 8 9]\n"
     ]
    }
   ],
   "source": [
    "# Creating a copy\n",
    "arr = np.arange(1,10)\n",
    "print(arr)\n",
    "\n",
    "arr_copy = arr.copy()\n",
    "print(arr_copy)"
   ]
  },
  {
   "cell_type": "code",
   "execution_count": 72,
   "metadata": {},
   "outputs": [
    {
     "name": "stdout",
     "output_type": "stream",
     "text": [
      "[9 8 7 6 5 4 3 2 1]\n"
     ]
    }
   ],
   "source": [
    "# Python splicing\n",
    "print(arr[::-1])"
   ]
  },
  {
   "cell_type": "code",
   "execution_count": 73,
   "metadata": {},
   "outputs": [
    {
     "name": "stdout",
     "output_type": "stream",
     "text": [
      "[1 1 1 1 1 1 1 1 1]\n"
     ]
    }
   ],
   "source": [
    "# Broadcasting\n",
    "arr[::]=1\n",
    "print(arr)"
   ]
  },
  {
   "cell_type": "code",
   "execution_count": 76,
   "metadata": {},
   "outputs": [
    {
     "name": "stdout",
     "output_type": "stream",
     "text": [
      "[1 2 3 4 5]\n",
      "[1 2 3 4 5]\n"
     ]
    }
   ],
   "source": [
    "# Logical indexing\n",
    "arr = np.arange(1,11)\n",
    "boolean_arr = arr < 6\n",
    "print(arr[boolean_arr])\n",
    "print(arr[arr < 6])"
   ]
  },
  {
   "cell_type": "code",
   "execution_count": 81,
   "metadata": {},
   "outputs": [
    {
     "name": "stdout",
     "output_type": "stream",
     "text": [
      "Type: int64\n",
      "Type: <U5\n"
     ]
    }
   ],
   "source": [
    "# Data types\n",
    "arr = np.array([1,2,3])\n",
    "print(f\"Type: {arr.dtype}\")\n",
    "arr = np.array(['lorem', 'ipsum', 'dolor'])\n",
    "print(f\"Type: {arr.dtype}\")"
   ]
  },
  {
   "cell_type": "code",
   "execution_count": 86,
   "metadata": {},
   "outputs": [
    {
     "name": "stdout",
     "output_type": "stream",
     "text": [
      "[b'1' b'2' b'3']\n",
      "Type: |S1\n"
     ]
    }
   ],
   "source": [
    "# Creating arrays with defined data type\n",
    "arr = np.array([1,2,3], dtype='S')\n",
    "print(arr)\n",
    "print(f\"Type: {arr.dtype}\")"
   ]
  },
  {
   "cell_type": "code",
   "execution_count": 105,
   "metadata": {},
   "outputs": [
    {
     "name": "stdout",
     "output_type": "stream",
     "text": [
      "[1 2 3 4]\n",
      "Type: int32\n"
     ]
    }
   ],
   "source": [
    "# Creating arrays with size\n",
    "arr = np.array([1,2,3,4], dtype='i4')\n",
    "print(arr)\n",
    "print(f\"Type: {arr.dtype}\")"
   ]
  },
  {
   "cell_type": "code",
   "execution_count": 110,
   "metadata": {},
   "outputs": [
    {
     "name": "stdout",
     "output_type": "stream",
     "text": [
      "Type: float64\n",
      "[1.1 1.2 1.3]\n",
      "Type: int32\n",
      "[1 1 1]\n"
     ]
    }
   ],
   "source": [
    "# Converting data type\n",
    "arr = np.array([1.1, 1.2, 1.3])\n",
    "print(f\"Type: {arr.dtype}\")\n",
    "print(arr)\n",
    "\n",
    "arr = arr.astype('i')\n",
    "print(f\"Type: {arr.dtype}\")\n",
    "print(arr)"
   ]
  },
  {
   "cell_type": "markdown",
   "metadata": {},
   "source": []
  },
  {
   "cell_type": "markdown",
   "metadata": {},
   "source": [
    "---\n",
    "### Numpy statistical functions\n"
   ]
  },
  {
   "cell_type": "code",
   "execution_count": 114,
   "metadata": {},
   "outputs": [
    {
     "name": "stdout",
     "output_type": "stream",
     "text": [
      "[ 1  2  3  4  5  6  7  8  9 10]\n",
      "Mean: 5.5\n",
      "STD: 2.8722813232690143\n",
      "Median: 5.5\n",
      "Sum: 55\n"
     ]
    }
   ],
   "source": [
    "# Statistical operations\n",
    "arr = np.arange(1, 11)\n",
    "print(arr)\n",
    "\n",
    "print(f\"Mean: {np.mean(arr)}\")\n",
    "print(f\"STD: {np.std(arr)}\")\n",
    "print(f\"Median: {np.median(arr)}\")\n",
    "print(f\"Sum: {np.sum(arr)}\")"
   ]
  },
  {
   "cell_type": "code",
   "execution_count": 199,
   "metadata": {},
   "outputs": [
    {
     "name": "stdout",
     "output_type": "stream",
     "text": [
      "Reshaping arr to 2 rows and 5 elements\n",
      " [[0 1 2 3 4]\n",
      " [5 6 7 8 9]]\n",
      "\n",
      "Random integer array with number range of 0-10 and a size of 6\n",
      "[5 8 9 5 0 0]\n",
      "Max value in the array: 9\n",
      "Index of max value in the array: 2\n",
      "Min value in the array: 0\n",
      "Index of min value in the array: 4\n"
     ]
    }
   ],
   "source": [
    "# Numpy operations\n",
    "np.random.seed(1)\n",
    "arr = np.arange(10)\n",
    "print(f\"Reshaping arr to 2 rows and 5 elements\\n {arr.reshape(2,5)}\")\n",
    "\n",
    "arr = np.random.randint(0,10,6) \n",
    "print(f\"\\nRandom integer array with number range of 0-10 and a size of 6\\n{arr}\")\n",
    "print(f\"Max value in the array: {arr.max()}\")\n",
    "print(f\"Index of max value in the array: {arr.argmax()}\")\n",
    "print(f\"Min value in the array: {arr.min()}\")\n",
    "print(f\"Index of min value in the array: {arr.argmin()}\")\n"
   ]
  },
  {
   "cell_type": "markdown",
   "metadata": {},
   "source": []
  },
  {
   "cell_type": "markdown",
   "metadata": {},
   "source": [
    "---\n",
    "### Numpy linear algebra"
   ]
  },
  {
   "cell_type": "code",
   "execution_count": 227,
   "metadata": {},
   "outputs": [
    {
     "name": "stdout",
     "output_type": "stream",
     "text": [
      "[ 0  1  2  3  4  5  6  7  8  9 10]\n",
      "[ 0  2  4  6  8 10 12 14 16 18 20]\n",
      "[ 0  3  6  9 12 15 18 21 24 27 30]\n",
      "[  0   1   4   9  16  25  36  49  64  81 100]\n"
     ]
    }
   ],
   "source": [
    "arr = np.arange(0,11)\n",
    "\n",
    "print(arr)\n",
    "print(arr + arr)\n",
    "print(arr * 3)\n",
    "print(arr ** 2)"
   ]
  }
 ],
 "metadata": {
  "interpreter": {
   "hash": "6b8a6e58ac7c32b1c8ab246be7c43cc3ee599025da1f8fa5c32148455ad35f52"
  },
  "kernelspec": {
   "display_name": "Python 3.9.7 ('custev')",
   "language": "python",
   "name": "python3"
  },
  "language_info": {
   "codemirror_mode": {
    "name": "ipython",
    "version": 3
   },
   "file_extension": ".py",
   "mimetype": "text/x-python",
   "name": "python",
   "nbconvert_exporter": "python",
   "pygments_lexer": "ipython3",
   "version": "3.9.7"
  },
  "orig_nbformat": 4
 },
 "nbformat": 4,
 "nbformat_minor": 2
}
